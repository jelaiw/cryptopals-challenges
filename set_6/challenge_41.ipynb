{
 "cells": [
  {
   "cell_type": "markdown",
   "metadata": {},
   "source": [
    "## Implement unpadded message recovery oracle\n",
    "\n",
    "Nate Lawson says we should stop calling it \"RSA padding\" and start calling it \"RSA armoring\". Here's why.\n",
    "\n",
    "Imagine a web application, again with the Javascript encryption, taking RSA-encrypted messages which (again: Javascript) aren't padded before encryption at all.\n",
    "\n",
    "You can submit an arbitrary RSA blob and the server will return plaintext. But you can't submit the same message twice: let's say the server keeps hashes of previous messages for some liveness interval, and that the message has an embedded timestamp:\n",
    "\n",
    "```json\n",
    "{\n",
    "  time: 1356304276,\n",
    "  social: '555-55-5555',\n",
    "}\n",
    "```\n",
    "\n",
    "You'd like to capture other people's messages and use the server to decrypt them. But when you try, the server takes the hash of the ciphertext and uses it to reject the request. Any bit you flip in the ciphertext irrevocably scrambles the decryption.\n",
    "\n",
    "This turns out to be trivially breakable: \n",
    "\n",
    "* Capture the ciphertext C\n",
    "* Let N and E be the public modulus and exponent respectively\n",
    "* Let S be a random number > 1 mod N. Doesn't matter what.\n",
    "* Now:\n",
    "\n",
    "```\n",
    "C' = ((S**E mod N) C) mod N\n",
    "```\n",
    "\n",
    "* Submit C', which appears totally different from C, to the server, recovering P', which appears totally different from P\n",
    "Now:\n",
    "\n",
    "```\n",
    "          P'\n",
    "    P = -----  mod N\n",
    "          S\n",
    "```\n",
    "\n",
    " Oops!\n",
    "\n",
    "Implement that attack.\n",
    "### Careful about division in cyclic groups.\n",
    "Remember: you don't simply divide mod N; you multiply by the multiplicative inverse mod N. So you'll need a modinv() function.\n",
    "\n",
    "\n"
   ]
  },
  {
   "cell_type": "code",
   "execution_count": null,
   "metadata": {},
   "outputs": [],
   "source": []
  }
 ],
 "metadata": {
  "language_info": {
   "name": "python"
  }
 },
 "nbformat": 4,
 "nbformat_minor": 2
}
