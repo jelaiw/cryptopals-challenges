{
 "cells": [
  {
   "cell_type": "markdown",
   "metadata": {},
   "source": [
    "## Implement unpadded message recovery oracle\n",
    "\n",
    "Nate Lawson says we should stop calling it \"RSA padding\" and start calling it \"RSA armoring\". Here's why.\n",
    "\n",
    "Imagine a web application, again with the Javascript encryption, taking RSA-encrypted messages which (again: Javascript) aren't padded before encryption at all.\n",
    "\n",
    "You can submit an arbitrary RSA blob and the server will return plaintext. But you can't submit the same message twice: let's say the server keeps hashes of previous messages for some liveness interval, and that the message has an embedded timestamp:\n",
    "\n",
    "```json\n",
    "{\n",
    "  time: 1356304276,\n",
    "  social: '555-55-5555',\n",
    "}\n",
    "```\n",
    "\n",
    "You'd like to capture other people's messages and use the server to decrypt them. But when you try, the server takes the hash of the ciphertext and uses it to reject the request. Any bit you flip in the ciphertext irrevocably scrambles the decryption.\n",
    "\n",
    "This turns out to be trivially breakable: \n",
    "\n",
    "* Capture the ciphertext C\n",
    "* Let N and E be the public modulus and exponent respectively\n",
    "* Let S be a random number > 1 mod N. Doesn't matter what.\n",
    "* Now:\n",
    "\n",
    "```\n",
    "C' = ((S**E mod N) C) mod N\n",
    "```\n",
    "\n",
    "* Submit C', which appears totally different from C, to the server, recovering P', which appears totally different from P\n",
    "Now:\n",
    "\n",
    "```\n",
    "          P'\n",
    "    P = -----  mod N\n",
    "          S\n",
    "```\n",
    "\n",
    " Oops!\n",
    "\n",
    "Implement that attack.\n",
    "### Careful about division in cyclic groups.\n",
    "Remember: you don't simply divide mod N; you multiply by the multiplicative inverse mod N. So you'll need a modinv() function.\n",
    "\n",
    "\n"
   ]
  },
  {
   "cell_type": "markdown",
   "metadata": {},
   "source": [
    "### One-time setup\n",
    "Configure the server's RSA keypair and textbook RSA decrypt function."
   ]
  },
  {
   "cell_type": "code",
   "execution_count": 1,
   "metadata": {},
   "outputs": [],
   "source": [
    "from Crypto.Util.number import getPrime"
   ]
  },
  {
   "cell_type": "code",
   "execution_count": 2,
   "metadata": {},
   "outputs": [],
   "source": [
    "NUM_BITS = 1024\n",
    "p = getPrime(NUM_BITS)\n",
    "q = getPrime(NUM_BITS)"
   ]
  },
  {
   "cell_type": "code",
   "execution_count": 3,
   "metadata": {},
   "outputs": [
    {
     "data": {
      "text/plain": [
       "2047"
      ]
     },
     "execution_count": 3,
     "metadata": {},
     "output_type": "execute_result"
    }
   ],
   "source": [
    "n = p * q\n",
    "n.bit_length()"
   ]
  },
  {
   "cell_type": "code",
   "execution_count": 5,
   "metadata": {},
   "outputs": [],
   "source": [
    "phi = (p - 1) * (q - 1) # Euler's totient."
   ]
  },
  {
   "cell_type": "code",
   "execution_count": 7,
   "metadata": {},
   "outputs": [
    {
     "data": {
      "text/plain": [
       "9999084168040618735634861551028646714742419824776844939618046517930489960096612274105788204465626306989470696783698343279280014861995265035569539280891631064297939780160124628869695269343557975135982891073329303818009473603698633092090004042698768900183665105420632261310775144887374464668624168201333009266899950812475295837304653006366264235873345873988264006742306399022556182903044439835865635144643674405954517323848976805487216372176489900871366907034146005163955964589454433788255139460061307379840363093156441943600475313978033317975884382581433172679113666070300725777779503999992424431816057691268724076147"
      ]
     },
     "execution_count": 7,
     "metadata": {},
     "output_type": "execute_result"
    }
   ],
   "source": [
    "d = pow(e, -1, phi)\n",
    "d"
   ]
  },
  {
   "cell_type": "code",
   "execution_count": 9,
   "metadata": {},
   "outputs": [],
   "source": [
    "assert e * d % phi == 1"
   ]
  },
  {
   "cell_type": "markdown",
   "metadata": {},
   "source": [
    "### Enter notebook here for re-runs."
   ]
  },
  {
   "cell_type": "code",
   "execution_count": 2,
   "metadata": {},
   "outputs": [],
   "source": [
    "N = 14998626252060928103452292326542970072113629737165267409427069776895734940144918411158682306698439460484206045175547514918920022292992897553354308921337446596446909670240186943304542904015336962703974336609993955727014210405547949638135006064048153350275497658130948391966162717331061697002936252301999513900597824741726854402436970305499076189535485327631912218072518428911792985143753609764640004919486259062931216650284588585901673444541101407504191882322230182874555079901080636451642823862690883410812084807478665973587954142541349197747345526288869524033493400650480652831708745653869356203205959909973122017029\n",
    "e = 3 # public exponent."
   ]
  },
  {
   "cell_type": "code",
   "execution_count": 3,
   "metadata": {},
   "outputs": [],
   "source": [
    "from Crypto.Util.number import bytes_to_long, long_to_bytes"
   ]
  },
  {
   "cell_type": "code",
   "execution_count": 4,
   "metadata": {},
   "outputs": [],
   "source": [
    "m = b\"retreat\""
   ]
  },
  {
   "cell_type": "code",
   "execution_count": 5,
   "metadata": {},
   "outputs": [],
   "source": [
    "C = pow(bytes_to_long(m), e, N)"
   ]
  },
  {
   "cell_type": "code",
   "execution_count": 6,
   "metadata": {},
   "outputs": [],
   "source": [
    "def decrypt(c):\n",
    "    N = 14998626252060928103452292326542970072113629737165267409427069776895734940144918411158682306698439460484206045175547514918920022292992897553354308921337446596446909670240186943304542904015336962703974336609993955727014210405547949638135006064048153350275497658130948391966162717331061697002936252301999513900597824741726854402436970305499076189535485327631912218072518428911792985143753609764640004919486259062931216650284588585901673444541101407504191882322230182874555079901080636451642823862690883410812084807478665973587954142541349197747345526288869524033493400650480652831708745653869356203205959909973122017029\n",
    "    d = 9999084168040618735634861551028646714742419824776844939618046517930489960096612274105788204465626306989470696783698343279280014861995265035569539280891631064297939780160124628869695269343557975135982891073329303818009473603698633092090004042698768900183665105420632261310775144887374464668624168201333009266899950812475295837304653006366264235873345873988264006742306399022556182903044439835865635144643674405954517323848976805487216372176489900871366907034146005163955964589454433788255139460061307379840363093156441943600475313978033317975884382581433172679113666070300725777779503999992424431816057691268724076147\n",
    "    return long_to_bytes(pow(c, d, N))"
   ]
  },
  {
   "cell_type": "markdown",
   "metadata": {},
   "source": [
    "Test the \"oracle\"."
   ]
  },
  {
   "cell_type": "code",
   "execution_count": 7,
   "metadata": {},
   "outputs": [
    {
     "data": {
      "text/plain": [
       "b'retreat'"
      ]
     },
     "execution_count": 7,
     "metadata": {},
     "output_type": "execute_result"
    }
   ],
   "source": [
    "decrypt(C)"
   ]
  },
  {
   "cell_type": "markdown",
   "metadata": {},
   "source": [
    "### Try attack\n",
    "Capture ciphertext $C$."
   ]
  },
  {
   "cell_type": "code",
   "execution_count": 8,
   "metadata": {},
   "outputs": [],
   "source": [
    "from secrets import randbelow"
   ]
  },
  {
   "cell_type": "markdown",
   "metadata": {},
   "source": [
    "Let $S$ be a random number > 1 mod N.\n",
    "\n",
    "Technically, calling `randbelow` could return 0, but this should suffice for our purposes."
   ]
  },
  {
   "cell_type": "code",
   "execution_count": 9,
   "metadata": {},
   "outputs": [
    {
     "data": {
      "text/plain": [
       "13485922179403841019777644665192115435919012971434682042388978589234564259170809784993802577663696714608831209358008752973547778377403289874834988353747932476765360042443885704412544085265949603883600445005323271065664810142950419484330779511850432998977786995355350372579735697623088108095054433029258720316684665682359966738307863545974928945391252210406432254242622982164162577076575681634874376378699595052428157944090367210459266236331081136402879953598417752779290757549769467532210811152948261759684458071754406046677806576442013034546170156372298438284490354407490053855106068984782683932263767480851948231080"
      ]
     },
     "execution_count": 9,
     "metadata": {},
     "output_type": "execute_result"
    }
   ],
   "source": [
    "S = randbelow(N)\n",
    "assert S < N\n",
    "S"
   ]
  },
  {
   "cell_type": "markdown",
   "metadata": {},
   "source": [
    "$C' = S^e \\cdot C\\pmod{N}$"
   ]
  },
  {
   "cell_type": "code",
   "execution_count": 10,
   "metadata": {},
   "outputs": [
    {
     "data": {
      "text/plain": [
       "14810958663465419568102088467393898384020101848219112058469364916554411820565161185709248254689480476584076872767788695022004480041706309311377754818066938798021797365561378172677525785575733596754971722081575076399887370229278053963244920311792839012394385273981507447040543773486080323575103564107139619360529404690980849303840055155301206940037937912170371533639550666601706114722150043199014743996249669063222605884729751161352168330365662256752636438203497304350299794969652840218753217468346585015772638822035927703598282835879830497149934918103509318544674975434556459757549514230869201088208575746380470216519"
      ]
     },
     "execution_count": 10,
     "metadata": {},
     "output_type": "execute_result"
    }
   ],
   "source": [
    "C_ = pow(S, e, N) * C % N\n",
    "C_"
   ]
  },
  {
   "cell_type": "markdown",
   "metadata": {},
   "source": [
    "Submit $C'$ to oracle, which returns $P'$."
   ]
  },
  {
   "cell_type": "code",
   "execution_count": 11,
   "metadata": {},
   "outputs": [
    {
     "data": {
      "text/plain": [
       "b'\\x03$\\xdf\\x9b\\x95\\x8f\\'>g9\\x9a=\\x02J\\xd3`\\xba\\xd1\\xa8\\xc4;\\x16\\xe3]\\x16\\x91dy\\x02\\x1c=\\xad\\x85\\xd6\\x0e\\xcf\\x13\\xa8C\\xed\\x9ap\\x12ET\"J\\xadX\\xb3\\xcd\\xeb\\xf0\\xb8i\\xaeD\\x80\\x1c\\n\\xe3A\\xd0n\\x13%x\\xb6&x\\xe2\\xc59I6\\xfdNr\\xd26\\xaf\\x9a\\x17\\xbe\\xa5,\\x00d\\xf7\\x1c\\xa7;\\x0f\\x97\\x17a\\x08\\x1b+\\xa2\\xa9\\xf6\\n\\xe0\\xbc+\\xf0\\xa5\\xe2)]j.l>5l2o\\x04Yol>Z\\x9c#\\x98\\xcf\\x14\\x0f\\xd1j]@\\x98j\\x8c\\x9d\\xd4\\xc4\\xf9\\xee\\x9aT\\x96B\\xb6\\xb8\\xa1\\x0e\\xe7$\\x89\\xe1\\xec\\x1a\\xbeZ(\\x97Lq\\xc0\\x9bC!f\\x08\\r\\xaf\\xd20U=\\xdd\\xf4.G-9C\\xd5]-t\\x89\\x84\\xba6:K\\xfa\\xa9\\xb9\\xbea\\xe0\\xbaZ\\xb9\\xbd\\xfcP\\xed\\xb8u\\xcbl\\x93h\\x14\\x95\\xd4\\x7f+\\xde\\x86y\\xa0\\x92$8v\\xd2\\xbcB\\xfc\\x10qO\\x88\\xd4\\x83\\\\*_\\xc3\\xe1\\xe6\\x8f\\'\\xc3\\x05\\xe0M&\\xc6\\xfa;V\\x19\\xcc\\x87s\\x08'"
      ]
     },
     "execution_count": 11,
     "metadata": {},
     "output_type": "execute_result"
    }
   ],
   "source": [
    "P_ = decrypt(C_)\n",
    "P_"
   ]
  },
  {
   "cell_type": "markdown",
   "metadata": {},
   "source": [
    "$p = \\frac{P'}{S}\\pmod{N}$"
   ]
  },
  {
   "cell_type": "code",
   "execution_count": 13,
   "metadata": {},
   "outputs": [
    {
     "data": {
      "text/plain": [
       "b'retreat'"
      ]
     },
     "execution_count": 13,
     "metadata": {},
     "output_type": "execute_result"
    }
   ],
   "source": [
    "p = bytes_to_long(P_) * pow(S, -1, N) % N\n",
    "p = long_to_bytes(p)\n",
    "p"
   ]
  },
  {
   "cell_type": "code",
   "execution_count": 14,
   "metadata": {},
   "outputs": [],
   "source": [
    "assert p == m"
   ]
  },
  {
   "cell_type": "markdown",
   "metadata": {},
   "source": [
    "$P' = C'^d\\pmod{N} = (S^e\\cdot C)^d\\pmod{N} = S^{ed}\\cdot C^d\\pmod{N} = S\\cdot m^{ed}\\pmod{N} = S\\cdot m\\pmod{N}$\n",
    "\n",
    "Compare math to *blinding attack* described in Aumasson (2018, page 189)."
   ]
  },
  {
   "cell_type": "code",
   "execution_count": null,
   "metadata": {},
   "outputs": [],
   "source": []
  }
 ],
 "metadata": {
  "kernelspec": {
   "display_name": "Python 3",
   "language": "python",
   "name": "python3"
  },
  "language_info": {
   "codemirror_mode": {
    "name": "ipython",
    "version": 3
   },
   "file_extension": ".py",
   "mimetype": "text/x-python",
   "name": "python",
   "nbconvert_exporter": "python",
   "pygments_lexer": "ipython3",
   "version": "3.10.13"
  }
 },
 "nbformat": 4,
 "nbformat_minor": 2
}
