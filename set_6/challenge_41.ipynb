{
 "cells": [
  {
   "cell_type": "markdown",
   "metadata": {},
   "source": [
    "## Implement unpadded message recovery oracle\n",
    "\n",
    "Nate Lawson says we should stop calling it \"RSA padding\" and start calling it \"RSA armoring\". Here's why.\n",
    "\n",
    "Imagine a web application, again with the Javascript encryption, taking RSA-encrypted messages which (again: Javascript) aren't padded before encryption at all.\n",
    "\n",
    "You can submit an arbitrary RSA blob and the server will return plaintext. But you can't submit the same message twice: let's say the server keeps hashes of previous messages for some liveness interval, and that the message has an embedded timestamp:\n",
    "\n",
    "```json\n",
    "{\n",
    "  time: 1356304276,\n",
    "  social: '555-55-5555',\n",
    "}\n",
    "```\n",
    "\n",
    "You'd like to capture other people's messages and use the server to decrypt them. But when you try, the server takes the hash of the ciphertext and uses it to reject the request. Any bit you flip in the ciphertext irrevocably scrambles the decryption.\n",
    "\n",
    "This turns out to be trivially breakable: \n",
    "\n",
    "* Capture the ciphertext C\n",
    "* Let N and E be the public modulus and exponent respectively\n",
    "* Let S be a random number > 1 mod N. Doesn't matter what.\n",
    "* Now:\n",
    "\n",
    "```\n",
    "C' = ((S**E mod N) C) mod N\n",
    "```\n",
    "\n",
    "* Submit C', which appears totally different from C, to the server, recovering P', which appears totally different from P\n",
    "Now:\n",
    "\n",
    "```\n",
    "          P'\n",
    "    P = -----  mod N\n",
    "          S\n",
    "```\n",
    "\n",
    " Oops!\n",
    "\n",
    "Implement that attack.\n",
    "### Careful about division in cyclic groups.\n",
    "Remember: you don't simply divide mod N; you multiply by the multiplicative inverse mod N. So you'll need a modinv() function.\n",
    "\n",
    "\n"
   ]
  },
  {
   "cell_type": "markdown",
   "metadata": {},
   "source": [
    "### Unpadded Message Oracle\n",
    "Configure the server's RSA keypair and textbook RSA decrypt function."
   ]
  },
  {
   "cell_type": "code",
   "execution_count": 1,
   "metadata": {},
   "outputs": [],
   "source": [
    "from Crypto.Util.number import getPrime"
   ]
  },
  {
   "cell_type": "code",
   "execution_count": 2,
   "metadata": {},
   "outputs": [],
   "source": [
    "NUM_BITS = 1024\n",
    "p = getPrime(NUM_BITS)\n",
    "q = getPrime(NUM_BITS)"
   ]
  },
  {
   "cell_type": "code",
   "execution_count": 3,
   "metadata": {},
   "outputs": [
    {
     "data": {
      "text/plain": [
       "2047"
      ]
     },
     "execution_count": 3,
     "metadata": {},
     "output_type": "execute_result"
    }
   ],
   "source": [
    "n = p * q\n",
    "n.bit_length()"
   ]
  },
  {
   "cell_type": "code",
   "execution_count": 5,
   "metadata": {},
   "outputs": [],
   "source": [
    "phi = (p - 1) * (q - 1) # Euler's totient."
   ]
  },
  {
   "cell_type": "code",
   "execution_count": 7,
   "metadata": {},
   "outputs": [
    {
     "data": {
      "text/plain": [
       "9999084168040618735634861551028646714742419824776844939618046517930489960096612274105788204465626306989470696783698343279280014861995265035569539280891631064297939780160124628869695269343557975135982891073329303818009473603698633092090004042698768900183665105420632261310775144887374464668624168201333009266899950812475295837304653006366264235873345873988264006742306399022556182903044439835865635144643674405954517323848976805487216372176489900871366907034146005163955964589454433788255139460061307379840363093156441943600475313978033317975884382581433172679113666070300725777779503999992424431816057691268724076147"
      ]
     },
     "execution_count": 7,
     "metadata": {},
     "output_type": "execute_result"
    }
   ],
   "source": [
    "d = pow(e, -1, phi)\n",
    "d"
   ]
  },
  {
   "cell_type": "code",
   "execution_count": 9,
   "metadata": {},
   "outputs": [],
   "source": [
    "assert e * d % phi == 1"
   ]
  },
  {
   "cell_type": "code",
   "execution_count": 5,
   "metadata": {},
   "outputs": [],
   "source": [
    "N = 14998626252060928103452292326542970072113629737165267409427069776895734940144918411158682306698439460484206045175547514918920022292992897553354308921337446596446909670240186943304542904015336962703974336609993955727014210405547949638135006064048153350275497658130948391966162717331061697002936252301999513900597824741726854402436970305499076189535485327631912218072518428911792985143753609764640004919486259062931216650284588585901673444541101407504191882322230182874555079901080636451642823862690883410812084807478665973587954142541349197747345526288869524033493400650480652831708745653869356203205959909973122017029\n",
    "e = 3 # public exponent."
   ]
  },
  {
   "cell_type": "code",
   "execution_count": 2,
   "metadata": {},
   "outputs": [],
   "source": [
    "from Crypto.Util.number import bytes_to_long, long_to_bytes"
   ]
  },
  {
   "cell_type": "code",
   "execution_count": 3,
   "metadata": {},
   "outputs": [],
   "source": [
    "m = b\"retreat\""
   ]
  },
  {
   "cell_type": "code",
   "execution_count": 6,
   "metadata": {},
   "outputs": [],
   "source": [
    "C = pow(bytes_to_long(m), e, N)"
   ]
  },
  {
   "cell_type": "code",
   "execution_count": 7,
   "metadata": {},
   "outputs": [],
   "source": [
    "def decrypt(c):\n",
    "    N = 14998626252060928103452292326542970072113629737165267409427069776895734940144918411158682306698439460484206045175547514918920022292992897553354308921337446596446909670240186943304542904015336962703974336609993955727014210405547949638135006064048153350275497658130948391966162717331061697002936252301999513900597824741726854402436970305499076189535485327631912218072518428911792985143753609764640004919486259062931216650284588585901673444541101407504191882322230182874555079901080636451642823862690883410812084807478665973587954142541349197747345526288869524033493400650480652831708745653869356203205959909973122017029\n",
    "    d = 9999084168040618735634861551028646714742419824776844939618046517930489960096612274105788204465626306989470696783698343279280014861995265035569539280891631064297939780160124628869695269343557975135982891073329303818009473603698633092090004042698768900183665105420632261310775144887374464668624168201333009266899950812475295837304653006366264235873345873988264006742306399022556182903044439835865635144643674405954517323848976805487216372176489900871366907034146005163955964589454433788255139460061307379840363093156441943600475313978033317975884382581433172679113666070300725777779503999992424431816057691268724076147\n",
    "    return long_to_bytes(pow(c, d, N))"
   ]
  },
  {
   "cell_type": "markdown",
   "metadata": {},
   "source": [
    "Test the \"oracle\"."
   ]
  },
  {
   "cell_type": "code",
   "execution_count": 8,
   "metadata": {},
   "outputs": [
    {
     "data": {
      "text/plain": [
       "b'retreat'"
      ]
     },
     "execution_count": 8,
     "metadata": {},
     "output_type": "execute_result"
    }
   ],
   "source": [
    "decrypt(C)"
   ]
  },
  {
   "cell_type": "markdown",
   "metadata": {},
   "source": [
    "### Try attack\n",
    "Capture ciphertext $C$."
   ]
  },
  {
   "cell_type": "code",
   "execution_count": 9,
   "metadata": {},
   "outputs": [],
   "source": [
    "from secrets import randbelow"
   ]
  },
  {
   "cell_type": "code",
   "execution_count": 16,
   "metadata": {},
   "outputs": [
    {
     "data": {
      "text/plain": [
       "947414648544081496912840097182405403582204699678519573378494397264327793268296366503555469725894487080282777522844212274337846574680580410065132329347004943212129860698834918247067135948179183601118330361710929380182310023969576761364146625772860849395054562066073023647862779670049401231052546226678345738862062378533257596207049792756582813718496605780384496181639144818206516277256058956670253851220448299246405475364421597242987975974226780890385530032347234465622698548166564766986457686255842914425397732467228095630820913373700936906984554025309491709349771906835576752928390630157334163486179890933848025800"
      ]
     },
     "execution_count": 16,
     "metadata": {},
     "output_type": "execute_result"
    }
   ],
   "source": [
    "S = randbelow(N)\n",
    "assert S < N\n",
    "S"
   ]
  },
  {
   "cell_type": "code",
   "execution_count": 17,
   "metadata": {},
   "outputs": [
    {
     "data": {
      "text/plain": [
       "2526468244389334837123628164441779582647088858112310058869595613950381205378870355633854444413144014071746491952829884432455661915623064118341756169516138906818635382847957319034508782219768232568696822370699266299026574656081364650287770800705477017540778128927099097263105383639217949002700279992778760455466745460710802723626293195591843939310938259520108949660084270899718162442209244233130813527281973434935347260795606519247909030996905718151655230176046387661153048460553295532252767449752796176902565039254673537922771750515179319611005527489849536681208294500406643222902802495813764323431307218987069191558"
      ]
     },
     "execution_count": 17,
     "metadata": {},
     "output_type": "execute_result"
    }
   ],
   "source": [
    "C_ = pow(S, e, N) * C % N\n",
    "C_"
   ]
  },
  {
   "cell_type": "code",
   "execution_count": 18,
   "metadata": {},
   "outputs": [
    {
     "data": {
      "text/plain": [
       "b\"\\x174\\xa8\\x1e\\xa5\\x8b\\xbc\\x0f\\xfc_\\x83\\x1f!\\x11'\\xc0\\x16$/.\\x83`\\x05\\xf1\\x00\\xbfhZ\\xe7\\xd5\\x80]\\xb3\\xff\\xaa2\\x1e\\xb4\\xb5\\x13B\\x8d\\xbe\\xe0\\x8a\\xdc\\xeb\\xbc\\xed\\xec\\x08\\xb7\\xbc\\x87\\x97\\xc2\\x99\\xc1\\x11\\xe9\\xa3\\xd4I\\xbc\\x86a\\x17\\xc3\\x13VCK+T\\x0f\\xec\\xe9l9\\xf2,O\\x81\\x9b@\\x0f2\\xa0j\\xa6i5\\xc8\\x19Mz\\x9df\\x00r\\x05\\xeb(<t\\xed\\x83\\x84x\\x0f\\xa6\\xafptBe_x\\xa3\\x8b\\xaaH\\x04\\x86\\x01xti\\x89\\xe6C\\xbaM\\x1e>M\\xe1K\\x98o\\x1f\\xbe\\xd8\\xca\\xb7\\t\\xcf$\\xd9q*\\xaa\\xb5b1%\\xfe`nx\\xc5k\\xf0H}\\xdd\\x0fM\\xf5\\x9c\\xadq\\x9e\\xb1\\x1bo\\x08\\xc8\\xe8\\xb7\\xf2\\xd8\\x13\\xc1\\x13\\xcc\\xdc\\xf7\\xf7\\xa91\\x94\\x0f1\\x16\\x8eylS\\xdd\\xa7\\xd0\\x9f\\x0b\\xe1\\xa9\\xf0\\tr\\xd0\\xb9Z\\x9e#\\xf3h\\xe0Y\\xcbX\\xb2g\\x8b\\xe1\\xd4\\xdcw\\xaf\\xab\\xd8h9X!\\xe7H\\x9d\\xe2}m\\xd6\\xd7>N&0T\\xae\\x10\\xa5\\xf2[\\x00m\\x06\\x90\""
      ]
     },
     "execution_count": 18,
     "metadata": {},
     "output_type": "execute_result"
    }
   ],
   "source": [
    "P_ = decrypt(C_)\n",
    "P_"
   ]
  },
  {
   "cell_type": "code",
   "execution_count": 20,
   "metadata": {},
   "outputs": [
    {
     "data": {
      "text/plain": [
       "b'retreat'"
      ]
     },
     "execution_count": 20,
     "metadata": {},
     "output_type": "execute_result"
    }
   ],
   "source": [
    "p = bytes_to_long(P_) * pow(S, -1, N) % N\n",
    "long_to_bytes(p)"
   ]
  },
  {
   "cell_type": "code",
   "execution_count": null,
   "metadata": {},
   "outputs": [],
   "source": []
  }
 ],
 "metadata": {
  "kernelspec": {
   "display_name": "Python 3",
   "language": "python",
   "name": "python3"
  },
  "language_info": {
   "codemirror_mode": {
    "name": "ipython",
    "version": 3
   },
   "file_extension": ".py",
   "mimetype": "text/x-python",
   "name": "python",
   "nbconvert_exporter": "python",
   "pygments_lexer": "ipython3",
   "version": "3.10.13"
  }
 },
 "nbformat": 4,
 "nbformat_minor": 2
}
