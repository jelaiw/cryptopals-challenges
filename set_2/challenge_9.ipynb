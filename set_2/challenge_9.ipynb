{
 "cells": [
  {
   "cell_type": "markdown",
   "metadata": {},
   "source": [
    "## Implement PKCS#7 padding\n",
    "\n",
    "A block cipher transforms a fixed-sized block (usually 8 or 16 bytes) of plaintext into ciphertext. But we almost never want to transform a single block; we encrypt irregularly-sized messages.\n",
    "\n",
    "One way we account for irregularly-sized messages is by padding, creating a plaintext that is an even multiple of the blocksize. The most popular padding scheme is called PKCS#7.\n",
    "\n",
    "So: pad any block to a specific block length, by appending the number of bytes of padding to the end of the block. For instance,\n",
    "\n",
    "`\"YELLOW SUBMARINE\"`\n",
    "\n",
    "... padded to 20 bytes would be:\n",
    "\n",
    "`\"YELLOW SUBMARINE\\x04\\x04\\x04\\x04\"`\n",
    "\n"
   ]
  },
  {
   "cell_type": "markdown",
   "metadata": {},
   "source": [
    "Play with bytes, ints, and general approach."
   ]
  },
  {
   "cell_type": "code",
   "execution_count": 1,
   "metadata": {},
   "outputs": [],
   "source": [
    "b = b'\\x04'"
   ]
  },
  {
   "cell_type": "code",
   "execution_count": 2,
   "metadata": {},
   "outputs": [
    {
     "name": "stdout",
     "output_type": "stream",
     "text": [
      "\u001b[0;31mSignature:\u001b[0m \u001b[0mint\u001b[0m\u001b[0;34m.\u001b[0m\u001b[0mfrom_bytes\u001b[0m\u001b[0;34m(\u001b[0m\u001b[0mbytes\u001b[0m\u001b[0;34m,\u001b[0m \u001b[0mbyteorder\u001b[0m\u001b[0;34m=\u001b[0m\u001b[0;34m'big'\u001b[0m\u001b[0;34m,\u001b[0m \u001b[0;34m*\u001b[0m\u001b[0;34m,\u001b[0m \u001b[0msigned\u001b[0m\u001b[0;34m=\u001b[0m\u001b[0;32mFalse\u001b[0m\u001b[0;34m)\u001b[0m\u001b[0;34m\u001b[0m\u001b[0;34m\u001b[0m\u001b[0m\n",
      "\u001b[0;31mDocstring:\u001b[0m\n",
      "Return the integer represented by the given array of bytes.\n",
      "\n",
      "bytes\n",
      "  Holds the array of bytes to convert.  The argument must either\n",
      "  support the buffer protocol or be an iterable object producing bytes.\n",
      "  Bytes and bytearray are examples of built-in objects that support the\n",
      "  buffer protocol.\n",
      "byteorder\n",
      "  The byte order used to represent the integer.  If byteorder is 'big',\n",
      "  the most significant byte is at the beginning of the byte array.  If\n",
      "  byteorder is 'little', the most significant byte is at the end of the\n",
      "  byte array.  To request the native byte order of the host system, use\n",
      "  `sys.byteorder' as the byte order value.  Default is to use 'big'.\n",
      "signed\n",
      "  Indicates whether two's complement is used to represent the integer.\n",
      "\u001b[0;31mType:\u001b[0m      builtin_function_or_method"
     ]
    }
   ],
   "source": [
    "?int.from_bytes"
   ]
  },
  {
   "cell_type": "code",
   "execution_count": 3,
   "metadata": {},
   "outputs": [
    {
     "data": {
      "text/plain": [
       "4"
      ]
     },
     "execution_count": 3,
     "metadata": {},
     "output_type": "execute_result"
    }
   ],
   "source": [
    "int.from_bytes(b, 'big')"
   ]
  },
  {
   "cell_type": "code",
   "execution_count": 4,
   "metadata": {},
   "outputs": [],
   "source": [
    "from struct import pack"
   ]
  },
  {
   "cell_type": "code",
   "execution_count": 5,
   "metadata": {},
   "outputs": [
    {
     "name": "stdout",
     "output_type": "stream",
     "text": [
      "\u001b[0;31mDocstring:\u001b[0m\n",
      "pack(format, v1, v2, ...) -> bytes\n",
      "\n",
      "Return a bytes object containing the values v1, v2, ... packed according\n",
      "to the format string.  See help(struct) for more on format strings.\n",
      "\u001b[0;31mType:\u001b[0m      builtin_function_or_method"
     ]
    }
   ],
   "source": [
    "?pack"
   ]
  },
  {
   "cell_type": "code",
   "execution_count": 6,
   "metadata": {},
   "outputs": [
    {
     "data": {
      "text/plain": [
       "b'\\x04'"
      ]
     },
     "execution_count": 6,
     "metadata": {},
     "output_type": "execute_result"
    }
   ],
   "source": [
    "pack(\">b\", 4)"
   ]
  },
  {
   "cell_type": "markdown",
   "metadata": {},
   "source": [
    "### DIY pad/unpad\n",
    "See https://en.wikipedia.org/wiki/Padding_(cryptography)#PKCS#5_and_PKCS#7 for an example of how things can go wrong in real life; this toy implementation should suffice for the purposes of this challenge."
   ]
  },
  {
   "cell_type": "code",
   "execution_count": 7,
   "metadata": {},
   "outputs": [],
   "source": [
    "def pad(data:bytes, block_size):\n",
    "    assert block_size > len(data)\n",
    "    pad_length = block_size - len(data)\n",
    "    padded_data = data + pad_length * pack(\">b\", pad_length)\n",
    "    return padded_data"
   ]
  },
  {
   "cell_type": "code",
   "execution_count": 8,
   "metadata": {},
   "outputs": [],
   "source": [
    "test_data = b\"YELLOW SUBMARINE\""
   ]
  },
  {
   "cell_type": "code",
   "execution_count": 12,
   "metadata": {},
   "outputs": [
    {
     "data": {
      "text/plain": [
       "b'YELLOW SUBMARINE\\x04\\x04\\x04\\x04'"
      ]
     },
     "execution_count": 12,
     "metadata": {},
     "output_type": "execute_result"
    }
   ],
   "source": [
    "padded = pad(test_data, 20)\n",
    "padded"
   ]
  },
  {
   "cell_type": "code",
   "execution_count": 10,
   "metadata": {},
   "outputs": [],
   "source": [
    "def unpad(padded_data:bytes, block_size):\n",
    "    assert len(padded_data) % block_size == 0\n",
    "    pad_length = padded_data[-1]\n",
    "    assert padded_data[-pad_length:] == pad_length * pack(\">b\", pad_length)\n",
    "    return padded_data[:-pad_length]"
   ]
  },
  {
   "cell_type": "code",
   "execution_count": 13,
   "metadata": {},
   "outputs": [
    {
     "data": {
      "text/plain": [
       "b'YELLOW SUBMARINE'"
      ]
     },
     "execution_count": 13,
     "metadata": {},
     "output_type": "execute_result"
    }
   ],
   "source": [
    "unpad(padded, 20)"
   ]
  },
  {
   "cell_type": "code",
   "execution_count": null,
   "metadata": {},
   "outputs": [],
   "source": []
  }
 ],
 "metadata": {
  "kernelspec": {
   "display_name": "Python 3",
   "language": "python",
   "name": "python3"
  },
  "language_info": {
   "codemirror_mode": {
    "name": "ipython",
    "version": 3
   },
   "file_extension": ".py",
   "mimetype": "text/x-python",
   "name": "python",
   "nbconvert_exporter": "python",
   "pygments_lexer": "ipython3",
   "version": "3.12.7"
  }
 },
 "nbformat": 4,
 "nbformat_minor": 2
}
