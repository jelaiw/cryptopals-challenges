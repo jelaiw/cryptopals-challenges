{
 "cells": [
  {
   "cell_type": "markdown",
   "metadata": {},
   "source": [
    "## ECB cut-and-paste\n",
    "\n",
    "Write a k=v parsing routine, as if for a structured cookie. The routine should take:\n",
    "\n",
    "```foo=bar&baz=qux&zap=zazzle```\n",
    "\n",
    "... and produce:\n",
    "\n",
    "```\n",
    "{\n",
    "  foo: 'bar',\n",
    "  baz: 'qux',\n",
    "  zap: 'zazzle'\n",
    "}\n",
    "```\n",
    "\n",
    "(you know, the object; I don't care if you convert it to JSON). \n",
    "\n",
    " Now write a function that encodes a user profile in that format, given an email address. You should have something like:\n",
    "\n",
    "```profile_for(\"foo@bar.com\")```\n",
    "\n",
    "... and it should produce:\n",
    "\n",
    "```\n",
    "{\n",
    "  email: 'foo@bar.com',\n",
    "  uid: 10,\n",
    "  role: 'user'\n",
    "}\n",
    "```\n",
    "\n",
    "... encoded as:\n",
    "\n",
    "```email=foo@bar.com&uid=10&role=user```\n",
    "\n",
    "Your \"profile_for\" function should not allow encoding metacharacters (& and =). Eat them, quote them, whatever you want to do, but don't let people set their email address to `foo@bar.com&role=admin`. \n",
    "\n",
    " Now, two more easy functions. Generate a random AES key, then:\n",
    "\n",
    "<ol type=\"A\">\n",
    "  <li>Encrypt the encoded user profile under the key; \"provide\" that to the \"attacker\".</li>\n",
    "  <li>Decrypt the encoded user profile and parse it.</li>\n",
    "</ol>\n",
    "\n",
    "Using only the user input to profile_for() (as an oracle to generate \"valid\" ciphertexts) and the ciphertexts themselves, make a role=admin profile. \n"
   ]
  }
 ],
 "metadata": {
  "kernelspec": {
   "display_name": "Python 3",
   "language": "python",
   "name": "python3"
  },
  "language_info": {
   "name": "python",
   "version": "3.12.8"
  }
 },
 "nbformat": 4,
 "nbformat_minor": 2
}
