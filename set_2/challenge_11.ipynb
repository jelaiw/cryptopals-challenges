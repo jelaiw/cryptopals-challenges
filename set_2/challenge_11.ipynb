{
 "cells": [
  {
   "cell_type": "markdown",
   "metadata": {},
   "source": [
    "## An ECB/CBC detection oracle\n",
    "\n",
    "Now that you have ECB and CBC working:\n",
    "\n",
    "Write a function to generate a random AES key; that's just 16 random bytes.\n",
    "\n",
    "Write a function that encrypts data under an unknown key --- that is, a function that generates a random key and encrypts under it.\n",
    "\n",
    "The function should look like: \n",
    "\n",
    "```\n",
    "encryption_oracle(your-input)\n",
    "=> [MEANINGLESS JIBBER JABBER]\n",
    "```\n",
    "\n",
    "Under the hood, have the function append 5-10 bytes (count chosen randomly) before the plaintext and 5-10 bytes after the plaintext.\n",
    "\n",
    "Now, have the function choose to encrypt under ECB 1/2 the time, and under CBC the other half (just use random IVs each time for CBC). Use `rand(2)` to decide which to use.\n",
    "\n",
    "Detect the block cipher mode the function is using each time. You should end up with a piece of code that, pointed at a black box that might be encrypting ECB or CBC, tells you which one is happening.\n"
   ]
  },
  {
   "cell_type": "code",
   "execution_count": 1,
   "metadata": {},
   "outputs": [],
   "source": [
    "from Crypto.Cipher import AES\n",
    "from Crypto.Util.Padding import pad\n",
    "from os import urandom\n",
    "from random import randint"
   ]
  },
  {
   "cell_type": "markdown",
   "metadata": {},
   "source": [
    "https://docs.python.org/3/library/random.html#random.randint"
   ]
  },
  {
   "cell_type": "code",
   "execution_count": 2,
   "metadata": {},
   "outputs": [],
   "source": [
    "# Returns 5-10 random bytes (count chosen randomly).\n",
    "def random_bytes():\n",
    "    count = randint(5, 10)\n",
    "    return urandom(count)"
   ]
  },
  {
   "cell_type": "markdown",
   "metadata": {},
   "source": [
    "CBC mode API (Pycryptodome) already creates a random IV, see https://www.pycryptodome.org/src/cipher/classic#cbc-mode."
   ]
  },
  {
   "cell_type": "code",
   "execution_count": 35,
   "metadata": {},
   "outputs": [],
   "source": [
    "# Returns (ciphertext, mode:string) tuple.\n",
    "def encryption_oracle(plaintext):\n",
    "    key = urandom(AES.block_size) # Generate a random AES key.\n",
    "    # Append 5-10 bytes (count chosen randomly) before the plaintext and 5-10 bytes after the plaintext.\n",
    "    plaintext = random_bytes() + plaintext + random_bytes()\n",
    "    \n",
    "    # Encrypt under ECB 1/2 the time, and under CBC the other half.\n",
    "    cipher = None\n",
    "    if randint(0, 1) == 0:\n",
    "        cipher = AES.new(key, AES.MODE_ECB)\n",
    "    else:\n",
    "        cipher = AES.new(key, AES.MODE_CBC)\n",
    "\n",
    "    padded = pad(plaintext, cipher.block_size)\n",
    "    return cipher.encrypt(padded), \"cbc\" if hasattr(cipher, 'iv') else \"ecb\""
   ]
  },
  {
   "cell_type": "code",
   "execution_count": 34,
   "metadata": {},
   "outputs": [
    {
     "name": "stdout",
     "output_type": "stream",
     "text": [
      "b\"\\xf6@\\x03>\\x06K\\x81\\x1d\\xf6\\x05\\xd7;\\xd7\\xbb\\x9b)\\xb1k,\\x04'`\\x94\\x1f\\xf5X\\x11J/\\xa9\\xeb\\xa7\" cbc\n"
     ]
    }
   ],
   "source": [
    "test, mode = encryption_oracle(b'test')\n",
    "print(test, mode)"
   ]
  },
  {
   "cell_type": "markdown",
   "metadata": {},
   "source": [
    "Borrow `detect_ecb` function from challenge 8."
   ]
  },
  {
   "cell_type": "code",
   "execution_count": 6,
   "metadata": {},
   "outputs": [],
   "source": [
    "# Returns (is_ecb:boolean, counts:dict) tuple, given ciphertext.\n",
    "def detect_ecb(ciphertext):\n",
    "    assert len(ciphertext) % AES.block_size == 0\n",
    "    counts = {}\n",
    "    for i in range(0, len(ciphertext), AES.block_size):\n",
    "        block = ciphertext[i:i + AES.block_size]\n",
    "        if block not in counts:\n",
    "            counts[block] = 0\n",
    "        counts[block] += 1\n",
    "    return max(counts.values()) > 1, counts"
   ]
  },
  {
   "cell_type": "markdown",
   "metadata": {},
   "source": [
    "Craft an input to expose ECB."
   ]
  },
  {
   "cell_type": "code",
   "execution_count": 9,
   "metadata": {},
   "outputs": [
    {
     "data": {
      "text/plain": [
       "b'\\x00\\x00\\x00\\x00\\x00\\x00\\x00\\x00\\x00\\x00\\x00\\x00\\x00\\x00\\x00\\x00\\x00\\x00\\x00\\x00\\x00\\x00\\x00\\x00\\x00\\x00\\x00\\x00\\x00\\x00\\x00\\x00\\x00\\x00\\x00\\x00\\x00\\x00\\x00\\x00\\x00\\x00\\x00\\x00\\x00\\x00\\x00\\x00\\x00\\x00\\x00\\x00\\x00\\x00\\x00\\x00\\x00\\x00\\x00\\x00\\x00\\x00\\x00\\x00\\x00\\x00\\x00\\x00\\x00\\x00\\x00\\x00\\x00\\x00\\x00\\x00\\x00\\x00\\x00\\x00\\x00\\x00\\x00\\x00\\x00\\x00\\x00\\x00\\x00\\x00\\x00\\x00\\x00\\x00\\x00\\x00\\x00\\x00\\x00\\x00\\x00\\x00\\x00\\x00\\x00\\x00\\x00\\x00\\x00\\x00\\x00\\x00\\x00\\x00\\x00\\x00\\x00\\x00\\x00\\x00\\x00\\x00\\x00\\x00\\x00\\x00\\x00\\x00\\x00\\x00\\x00\\x00\\x00\\x00\\x00\\x00\\x00\\x00\\x00\\x00\\x00\\x00\\x00\\x00'"
      ]
     },
     "execution_count": 9,
     "metadata": {},
     "output_type": "execute_result"
    }
   ],
   "source": [
    "NUM_BLOCKS = 9\n",
    "input = b'\\x00' * AES.block_size * NUM_BLOCKS\n",
    "input"
   ]
  },
  {
   "cell_type": "code",
   "execution_count": 39,
   "metadata": {},
   "outputs": [
    {
     "name": "stdout",
     "output_type": "stream",
     "text": [
      "ecb True\n"
     ]
    }
   ],
   "source": [
    "ciphertext, mode = encryption_oracle(input)\n",
    "is_ecb, counts = detect_ecb(ciphertext)\n",
    "print(mode, is_ecb)"
   ]
  },
  {
   "cell_type": "code",
   "execution_count": null,
   "metadata": {},
   "outputs": [],
   "source": []
  }
 ],
 "metadata": {
  "kernelspec": {
   "display_name": "Python 3",
   "language": "python",
   "name": "python3"
  },
  "language_info": {
   "codemirror_mode": {
    "name": "ipython",
    "version": 3
   },
   "file_extension": ".py",
   "mimetype": "text/x-python",
   "name": "python",
   "nbconvert_exporter": "python",
   "pygments_lexer": "ipython3",
   "version": "3.12.8"
  }
 },
 "nbformat": 4,
 "nbformat_minor": 2
}
