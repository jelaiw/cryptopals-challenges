{
 "cells": [
  {
   "cell_type": "markdown",
   "metadata": {},
   "source": [
    "## An ECB/CBC detection oracle\n",
    "\n",
    "Now that you have ECB and CBC working:\n",
    "\n",
    "Write a function to generate a random AES key; that's just 16 random bytes.\n",
    "\n",
    "Write a function that encrypts data under an unknown key --- that is, a function that generates a random key and encrypts under it.\n",
    "\n",
    "The function should look like: \n",
    "\n",
    "```\n",
    "encryption_oracle(your-input)\n",
    "=> [MEANINGLESS JIBBER JABBER]\n",
    "```\n",
    "\n",
    "Under the hood, have the function append 5-10 bytes (count chosen randomly) before the plaintext and 5-10 bytes after the plaintext.\n",
    "\n",
    "Now, have the function choose to encrypt under ECB 1/2 the time, and under CBC the other half (just use random IVs each time for CBC). Use `rand(2)` to decide which to use.\n",
    "\n",
    "Detect the block cipher mode the function is using each time. You should end up with a piece of code that, pointed at a block box that might be encrypting ECB or CBC, tells you which one is happening.\n"
   ]
  }
 ],
 "metadata": {
  "language_info": {
   "name": "python"
  }
 },
 "nbformat": 4,
 "nbformat_minor": 2
}
