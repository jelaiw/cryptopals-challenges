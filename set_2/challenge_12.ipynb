{
 "cells": [
  {
   "cell_type": "markdown",
   "metadata": {},
   "source": [
    "## Byte-at-a-time ECB decryption (Simple)\n",
    " Copy your oracle function to a new function that encrypts buffers under ECB mode using a _consistent_ but _unknown_ key (for instance, assign a single random key, once, to a global variable).\n",
    "\n",
    "Now take that same function and have it append to the plaintext, BEFORE ENCRYPTING, the following string: \n",
    "\n",
    "```\n",
    "Um9sbGluJyBpbiBteSA1LjAKV2l0aCBteSByYWctdG9wIGRvd24gc28gbXkg\n",
    "aGFpciBjYW4gYmxvdwpUaGUgZ2lybGllcyBvbiBzdGFuZGJ5IHdhdmluZyBq\n",
    "dXN0IHRvIHNheSBoaQpEaWQgeW91IHN0b3A/IE5vLCBJIGp1c3QgZHJvdmUg\n",
    "YnkK\n",
    "```\n",
    "\n",
    "|Spoiler alert.|\n",
    "| ------------ |\n",
    "|Do not decode this string now. Don't do it.|\n",
    "\n",
    "Base64 decode the string before appending it. _Do not base64 decode the string by hand; make your code do it._ The point is that you don't know its contents.\n",
    "\n",
    "What you have now is a function that produces: \n",
    "\n",
    "`AES-128-ECB(your-string || unknown-string, random-key)`\n",
    "\n",
    "It turns out: you can decrypt \"unknown-string\" with repeated calls to the oracle function!\n",
    "\n",
    "Here's roughly how: \n",
    "\n",
    "1. Feed identical bytes of your-string to the function 1 at a time --- start with 1 byte (\"A\"), then \"AA\", then \"AAA\" and so on. Discover the block size of the cipher. You know it, but do this step anyway.\n",
    "2. Detect that the function is using ECB. You already know, but do this step anyways.\n",
    "2. Knowing the block size, craft an input block that is exactly 1 byte short (for instance, if the block size is 8 bytes, make \"AAAAAAA\"). Think about what the oracle function is going to put in that last byte position.\n",
    "2. Make a dictionary of every possible last byte by feeding different strings to the oracle; for instance, \"AAAAAAAA\", \"AAAAAAAB\", \"AAAAAAAC\", remembering the first block of each invocation.\n",
    "2. Match the output of the one-byte-short input to one of the entries in your dictionary. You've now discovered the first byte of unknown-string.\n",
    "2. Repeat for the next byte.\n",
    "\n",
    "\n",
    "|Congratulations.|\n",
    "| -------------- |\n",
    "|This is the first challenge we've given you whose solution will break real crypto. Lots of people know that when you encrypt something in ECB mode, you can see penguins through it. Not so many of them can decrypt the contents of those ciphertexts, and now you can. If our experience is any guideline, this attack will get you code execution in security tests about once a year.|\n"
   ]
  },
  {
   "cell_type": "code",
   "execution_count": 1,
   "metadata": {},
   "outputs": [],
   "source": [
    "from Crypto.Cipher import AES\n",
    "from Crypto.Util.Padding import pad\n",
    "from os import urandom\n",
    "from base64 import b64decode\n",
    "import string"
   ]
  },
  {
   "cell_type": "code",
   "execution_count": 2,
   "metadata": {},
   "outputs": [],
   "source": [
    "KEY = urandom(16) # 128-bit AES key"
   ]
  },
  {
   "cell_type": "code",
   "execution_count": 3,
   "metadata": {},
   "outputs": [],
   "source": [
    "FLAG = b64decode(\"Um9sbGluJyBpbiBteSA1LjAKV2l0aCBteSByYWctdG9wIGRvd24gc28gbXkgaGFpciBjYW4gYmxvdwpUaGUgZ2lybGllcyBvbiBzdGFuZGJ5IHdhdmluZyBqdXN0IHRvIHNheSBoaQpEaWQgeW91IHN0b3A/IE5vLCBJIGp1c3QgZHJvdmUgYnkK\")"
   ]
  },
  {
   "cell_type": "code",
   "execution_count": 4,
   "metadata": {},
   "outputs": [],
   "source": [
    "def encryption_oracle(plaintext:bytes):\n",
    "    plaintext = plaintext + FLAG\n",
    "    padded = pad(plaintext, AES.block_size)\n",
    "    cipher = AES.new(KEY, AES.MODE_ECB)\n",
    "    return cipher.encrypt(padded)\n"
   ]
  },
  {
   "cell_type": "markdown",
   "metadata": {},
   "source": [
    "### Confirm block size\n",
    "Passing a byte string of length $1$ to the oracle function returns a ciphertext of length $144$.\n",
    "\n",
    "Consider $144 = len(FLAG) + 1 + 16$ where $1$ is the length of the input and $16$ is the expected length of padding if the unknown string length is $127$."
   ]
  },
  {
   "cell_type": "code",
   "execution_count": 5,
   "metadata": {},
   "outputs": [
    {
     "data": {
      "text/plain": [
       "144"
      ]
     },
     "execution_count": 5,
     "metadata": {},
     "output_type": "execute_result"
    }
   ],
   "source": [
    "ciphertext = encryption_oracle(b'0')\n",
    "len(ciphertext)"
   ]
  },
  {
   "cell_type": "markdown",
   "metadata": {},
   "source": [
    "Show that ciphertext length increases by the block size $16$ when passing a byte string of length $6$, which means that the unknown string length is $144 - 6 = 138$ due to expected padding behavior when the plaintext to be padded has a length that is a multiple of block size."
   ]
  },
  {
   "cell_type": "code",
   "execution_count": 11,
   "metadata": {},
   "outputs": [
    {
     "name": "stdout",
     "output_type": "stream",
     "text": [
      "6 160\n"
     ]
    }
   ],
   "source": [
    "for n in range(1, AES.block_size):\n",
    "    ciphertext = encryption_oracle(b'0' * n)\n",
    "    if len(ciphertext) > 144:\n",
    "        print(n, len(ciphertext))\n",
    "        break"
   ]
  },
  {
   "cell_type": "markdown",
   "metadata": {},
   "source": [
    "### Detect ECB"
   ]
  },
  {
   "cell_type": "code",
   "execution_count": 6,
   "metadata": {},
   "outputs": [],
   "source": [
    "# Returns (is_ecb:boolean, counts:dict) tuple, given ciphertext.\n",
    "def detect_ecb(ciphertext):\n",
    "    assert len(ciphertext) % AES.block_size == 0\n",
    "    counts = {}\n",
    "    for i in range(0, len(ciphertext), AES.block_size):\n",
    "        block = ciphertext[i:i + AES.block_size]\n",
    "        if block not in counts:\n",
    "            counts[block] = 0\n",
    "        counts[block] += 1\n",
    "    return max(counts.values()) > 1, counts"
   ]
  },
  {
   "cell_type": "code",
   "execution_count": 7,
   "metadata": {},
   "outputs": [],
   "source": [
    "NUM_BLOCKS = 3\n",
    "input = b'\\x00' * AES.block_size * NUM_BLOCKS"
   ]
  },
  {
   "cell_type": "code",
   "execution_count": 11,
   "metadata": {},
   "outputs": [
    {
     "name": "stdout",
     "output_type": "stream",
     "text": [
      "True\n"
     ]
    }
   ],
   "source": [
    "ciphertext = encryption_oracle(input)\n",
    "is_ecb, _ = detect_ecb(ciphertext)\n",
    "print(is_ecb)"
   ]
  },
  {
   "cell_type": "markdown",
   "metadata": {},
   "source": [
    "### Discover first byte of unknown string"
   ]
  },
  {
   "cell_type": "code",
   "execution_count": 8,
   "metadata": {},
   "outputs": [],
   "source": [
    "data = dict()\n",
    "for ch in string.ascii_letters:\n",
    "    b = bytes(ch, encoding='utf-8')\n",
    "    input = b'\\x00' * 15 + b\n",
    "    ciphertext = encryption_oracle(input)\n",
    "    first_block = ciphertext[:AES.block_size]\n",
    "    assert len(first_block) == AES.block_size\n",
    "    data[first_block] = b\n"
   ]
  },
  {
   "cell_type": "code",
   "execution_count": 9,
   "metadata": {},
   "outputs": [
    {
     "data": {
      "text/plain": [
       "52"
      ]
     },
     "execution_count": 9,
     "metadata": {},
     "output_type": "execute_result"
    }
   ],
   "source": [
    "len(data)"
   ]
  },
  {
   "cell_type": "code",
   "execution_count": 10,
   "metadata": {},
   "outputs": [],
   "source": [
    "ciphertext = encryption_oracle(b'\\x00' * 15)"
   ]
  },
  {
   "cell_type": "code",
   "execution_count": 11,
   "metadata": {},
   "outputs": [
    {
     "data": {
      "text/plain": [
       "b'R'"
      ]
     },
     "execution_count": 11,
     "metadata": {},
     "output_type": "execute_result"
    }
   ],
   "source": [
    "data[ciphertext[:AES.block_size]]"
   ]
  },
  {
   "cell_type": "markdown",
   "metadata": {},
   "source": [
    "### Try to generalize approach"
   ]
  },
  {
   "cell_type": "code",
   "execution_count": 5,
   "metadata": {},
   "outputs": [],
   "source": [
    "# Returns dict of encrypted block to candidate for next unknown char, given known chars so far.\n",
    "def make_dictionary(known):\n",
    "    d = dict()\n",
    "    for ch in string.printable:\n",
    "        input = None\n",
    "        if len(known) < AES.block_size: # Still working first block.\n",
    "            input = known + ch # Append candidate char.\n",
    "            input = input.zfill(AES.block_size) # Left fill string with zeros.\n",
    "        else:\n",
    "            input = known[-15:] + ch # LOOK!!\n",
    "        input = bytes(input, encoding='utf-8') # Need bytes for oracle function.\n",
    "\n",
    "        ciphertext = encryption_oracle(input)\n",
    "\n",
    "        first_block = ciphertext[:AES.block_size]\n",
    "        assert len(first_block) == AES.block_size # Sanity check.\n",
    "        d[first_block] = ch\n",
    "\n",
    "    return d\n"
   ]
  },
  {
   "cell_type": "code",
   "execution_count": 6,
   "metadata": {},
   "outputs": [],
   "source": [
    "# Returns (start, stop) tuple to index into the ciphertext slice for the next block.\n",
    "def block_indices(known):\n",
    "    block_num = len(known) // AES.block_size # Floor division.\n",
    "    start = block_num * AES.block_size\n",
    "    stop = (block_num + 1) * AES.block_size\n",
    "    return start, stop"
   ]
  },
  {
   "cell_type": "code",
   "execution_count": 16,
   "metadata": {},
   "outputs": [
    {
     "name": "stdout",
     "output_type": "stream",
     "text": [
      "Rollin' in my 5.0\n",
      "With my rag-top down so my hair can blow\n",
      "The girlies on standby waving just to say hi\n",
      "Did you stop? No, I just drove by\n",
      " 138\n"
     ]
    }
   ],
   "source": [
    "known = ''\n",
    "for _ in range(0, 138): # 138 is the calculated flag length.\n",
    "    d = make_dictionary(known)\n",
    "    count = AES.block_size - (len(known) % AES.block_size + 1)\n",
    "    ciphertext = encryption_oracle(b'0' * count)\n",
    "\n",
    "    start, stop = block_indices(known)\n",
    "    #print(count, start, stop) # Uncomment to better understand what happens at block boundaries.\n",
    "    known += d[ciphertext[start:stop]]\n",
    "\n",
    "print(known, len(known))\n"
   ]
  },
  {
   "cell_type": "code",
   "execution_count": null,
   "metadata": {},
   "outputs": [],
   "source": []
  }
 ],
 "metadata": {
  "kernelspec": {
   "display_name": "Python 3",
   "language": "python",
   "name": "python3"
  },
  "language_info": {
   "codemirror_mode": {
    "name": "ipython",
    "version": 3
   },
   "file_extension": ".py",
   "mimetype": "text/x-python",
   "name": "python",
   "nbconvert_exporter": "python",
   "pygments_lexer": "ipython3",
   "version": "3.12.8"
  }
 },
 "nbformat": 4,
 "nbformat_minor": 2
}
