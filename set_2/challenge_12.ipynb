{
 "cells": [
  {
   "cell_type": "markdown",
   "metadata": {},
   "source": [
    "## Byte-at-a-time ECB decryption (Simple)\n",
    " Copy your oracle function to a new function that encrypts buffers under ECB mode using a _consistent_ but _unknown_ key (for instance, assign a single random key, once, to a global variable).\n",
    "\n",
    "Now take that same function and have it append to the plaintext, BEFORE ENCRYPTING, the following string: \n",
    "\n",
    "```\n",
    "Um9sbGluJyBpbiBteSA1LjAKV2l0aCBteSByYWctdG9wIGRvd24gc28gbXkg\n",
    "aGFpciBjYW4gYmxvdwpUaGUgZ2lybGllcyBvbiBzdGFuZGJ5IHdhdmluZyBq\n",
    "dXN0IHRvIHNheSBoaQpEaWQgeW91IHN0b3A/IE5vLCBJIGp1c3QgZHJvdmUg\n",
    "YnkK\n",
    "```\n",
    "\n",
    "|Spoiler alert.|\n",
    "| ------------ |\n",
    "|Do not decode this string now. Don't do it.|\n",
    "\n",
    "Base64 decode the string before appending it. _Do not base64 decode the string by hand; make your code do it._ The point is that you don't know its contents.\n",
    "\n",
    "What you have now is a function that produces: \n",
    "\n",
    "`AES-128-ECB(your-string || unknown-string, random-key)`\n",
    "\n",
    "It turns out: you can decrypt \"unknown-string\" with repeated calls to the oracle function!\n",
    "\n",
    "Here's roughly how: \n",
    "\n",
    "1. Feed identical bytes of your-string to the function 1 at a time --- start with 1 byte (\"A\"), then \"AA\", then \"AAA\" and so on. Discover the block size of the cipher. You know it, but do this step anyway.\n",
    "2. Detect that the function is using ECB. You already know, but do this step anyways.\n",
    "2. Knowing the block size, craft an input block that is exactly 1 byte short (for instance, if the block size is 8 bytes, make \"AAAAAAA\"). Think about what the oracle function is going to put in that last byte position.\n",
    "2. Make a dictionary of every possible last byte by feeding different strings to the oracle; for instance, \"AAAAAAAA\", \"AAAAAAAB\", \"AAAAAAAC\", remembering the first block of each invocation.\n",
    "2. Match the output of the one-byte-short input to one of the entries in your dictionary. You've now discovered the first byte of unknown-string.\n",
    "2. Repeat for the next byte.\n",
    "\n",
    "\n",
    "|Congratulations.|\n",
    "| -------------- |\n",
    "|This is the first challenge we've given you whose solution will break real crypto. Lots of people know that when you encrypt something in ECB mode, you can see penguins through it. Not so many of them can decrypt the contents of those ciphertexts, and now you can. If our experience is any guideline, this attack will get you code execution in security tests about once a year.|\n"
   ]
  },
  {
   "cell_type": "code",
   "execution_count": 1,
   "metadata": {},
   "outputs": [],
   "source": [
    "from Crypto.Cipher import AES\n",
    "from Crypto.Util.Padding import pad\n",
    "from os import urandom\n",
    "from base64 import b64decode"
   ]
  },
  {
   "cell_type": "code",
   "execution_count": 2,
   "metadata": {},
   "outputs": [],
   "source": [
    "KEY = urandom(16) # 128-bit AES key"
   ]
  },
  {
   "cell_type": "code",
   "execution_count": 3,
   "metadata": {},
   "outputs": [],
   "source": [
    "FLAG_b64 = \"Um9sbGluJyBpbiBteSA1LjAKV2l0aCBteSByYWctdG9wIGRvd24gc28gbXkgaGFpciBjYW4gYmxvdwpUaGUgZ2lybGllcyBvbiBzdGFuZGJ5IHdhdmluZyBqdXN0IHRvIHNheSBoaQpEaWQgeW91IHN0b3A/IE5vLCBJIGp1c3QgZHJvdmUgYnkK\""
   ]
  },
  {
   "cell_type": "code",
   "execution_count": 4,
   "metadata": {},
   "outputs": [],
   "source": [
    "FLAG = b64decode(FLAG_b64)"
   ]
  },
  {
   "cell_type": "code",
   "execution_count": 5,
   "metadata": {},
   "outputs": [],
   "source": [
    "def encryption_oracle(plaintext:bytes):\n",
    "    plaintext = plaintext + FLAG\n",
    "    padded = pad(plaintext, AES.block_size)\n",
    "    cipher = AES.new(KEY, AES.MODE_ECB)\n",
    "    return cipher.encrypt(padded)\n"
   ]
  },
  {
   "cell_type": "markdown",
   "metadata": {},
   "source": [
    "### Confirm block size\n",
    "Passing a byte string of length $1$ to the oracle function returns a ciphertext of length $144$.\n",
    "\n",
    "Consider $144 = len(FLAG) + 1 + 16$ where $1$ is the length of the input and $16$ is the expected length of padding if the unknown string length is $127$."
   ]
  },
  {
   "cell_type": "code",
   "execution_count": 9,
   "metadata": {},
   "outputs": [
    {
     "data": {
      "text/plain": [
       "144"
      ]
     },
     "execution_count": 9,
     "metadata": {},
     "output_type": "execute_result"
    }
   ],
   "source": [
    "ciphertext = encryption_oracle(b'0')\n",
    "len(ciphertext)"
   ]
  },
  {
   "cell_type": "markdown",
   "metadata": {},
   "source": [
    "Pass a byte string of length $2$ to the oracle function.\n",
    "\n",
    "$144 = len(FLAG) + 2 + 15$, which confirms AES block size (which we know) and length of unknown string."
   ]
  },
  {
   "cell_type": "code",
   "execution_count": 10,
   "metadata": {},
   "outputs": [
    {
     "data": {
      "text/plain": [
       "144"
      ]
     },
     "execution_count": 10,
     "metadata": {},
     "output_type": "execute_result"
    }
   ],
   "source": [
    "ciphertext = encryption_oracle(b'00')\n",
    "len(ciphertext)"
   ]
  },
  {
   "cell_type": "code",
   "execution_count": null,
   "metadata": {},
   "outputs": [],
   "source": []
  }
 ],
 "metadata": {
  "kernelspec": {
   "display_name": "Python 3",
   "language": "python",
   "name": "python3"
  },
  "language_info": {
   "codemirror_mode": {
    "name": "ipython",
    "version": 3
   },
   "file_extension": ".py",
   "mimetype": "text/x-python",
   "name": "python",
   "nbconvert_exporter": "python",
   "pygments_lexer": "ipython3",
   "version": "3.12.8"
  }
 },
 "nbformat": 4,
 "nbformat_minor": 2
}
