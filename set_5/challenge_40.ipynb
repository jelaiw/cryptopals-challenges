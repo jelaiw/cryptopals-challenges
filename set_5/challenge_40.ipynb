{
 "cells": [
  {
   "cell_type": "markdown",
   "metadata": {},
   "source": [
    "## Implement an E=3 RSA Broadcast attack\n",
    "\n",
    "Assume you're a Javascript programmer. That is, you're using a naive handrolled RSA to encrypt without padding.\n",
    "\n",
    "Assume you can be coerced into encrypting the same plaintext three times, under three different public keys. You can; it's happened.\n",
    "\n",
    "Then an attacker can trivially decrypt your message, by:\n",
    "\n",
    "    Capturing any 3 of the ciphertexts and their corresponding pubkeys\n",
    "    Using the CRT to solve for the number represented by the three ciphertexts (which are residues mod their respective pubkeys)\n",
    "    Taking the cube root of the resulting number\n",
    "\n",
    "The CRT says you can take any number and represent it as the combination of a series of residues mod a series of moduli. In the three-residue case, you have: \n",
    "\n",
    "```\n",
    "result =\n",
    "  (c_0 * m_s_0 * invmod(m_s_0, n_0)) +\n",
    "  (c_1 * m_s_1 * invmod(m_s_1, n_1)) +\n",
    "  (c_2 * m_s_2 * invmod(m_s_2, n_2)) mod N_012\n",
    "```\n",
    "\n",
    "where:\n",
    "\n",
    "```\n",
    " c_0, c_1, c_2 are the three respective residues mod\n",
    " n_0, n_1, n_2\n",
    "\n",
    " m_s_n (for n in 0, 1, 2) are the product of the moduli\n",
    " EXCEPT n_n --- ie, m_s_1 is n_0 * n_2\n",
    "\n",
    " N_012 is the product of all three moduli\n",
    "```\n",
    "\n",
    "To decrypt RSA using a simple cube root, leave off the final modulus operation; just take the raw accumulated result and cube-root it. "
   ]
  },
  {
   "cell_type": "code",
   "execution_count": 1,
   "metadata": {},
   "outputs": [],
   "source": [
    "from sympy.ntheory.modular import crt"
   ]
  },
  {
   "cell_type": "markdown",
   "metadata": {},
   "source": [
    "Quick refresher on CRT."
   ]
  },
  {
   "cell_type": "code",
   "execution_count": 2,
   "metadata": {},
   "outputs": [],
   "source": [
    "moduli = [99, 97, 95]\n",
    "residues = [49, 76, 65]"
   ]
  },
  {
   "cell_type": "code",
   "execution_count": 3,
   "metadata": {},
   "outputs": [
    {
     "data": {
      "text/plain": [
       "(639985, 912285)"
      ]
     },
     "execution_count": 3,
     "metadata": {},
     "output_type": "execute_result"
    }
   ],
   "source": [
    "crt(moduli, residues)"
   ]
  },
  {
   "cell_type": "code",
   "execution_count": 4,
   "metadata": {},
   "outputs": [
    {
     "data": {
      "text/plain": [
       "[49, 76, 65]"
      ]
     },
     "execution_count": 4,
     "metadata": {},
     "output_type": "execute_result"
    }
   ],
   "source": [
    "[639985 % m for m in moduli]"
   ]
  },
  {
   "cell_type": "code",
   "execution_count": null,
   "metadata": {},
   "outputs": [],
   "source": []
  }
 ],
 "metadata": {
  "kernelspec": {
   "display_name": "Python 3",
   "language": "python",
   "name": "python3"
  },
  "language_info": {
   "codemirror_mode": {
    "name": "ipython",
    "version": 3
   },
   "file_extension": ".py",
   "mimetype": "text/x-python",
   "name": "python",
   "nbconvert_exporter": "python",
   "pygments_lexer": "ipython3",
   "version": "3.10.13"
  }
 },
 "nbformat": 4,
 "nbformat_minor": 2
}
