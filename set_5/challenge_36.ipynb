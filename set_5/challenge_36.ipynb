{
 "cells": [
  {
   "cell_type": "markdown",
   "metadata": {},
   "source": [
    "## Implement Secure Remote Password (SRP)\n",
    "\n",
    "To understand SRP, look at how you generate an AES key from DH; now, just observe you can do the \"opposite\" operation and generate a numeric parameter from a hash. Then:\n",
    "\n",
    "Replace A and B with C and S (client & server)\n",
    "```\n",
    "C & S\n",
    "    Agree on N=[NIST Prime], g=2, k=3, I (email), P (password)\n",
    "S\n",
    "\n",
    "        Generate salt as random integer\n",
    "        Generate string xH=SHA256(salt|password)\n",
    "        Convert xH to integer x somehow (put 0x on hexdigest)\n",
    "        Generate v=g**x % N\n",
    "        Save everything but x, xH\n",
    "\n",
    "C->S\n",
    "    Send I, A=g**a % N (a la Diffie Hellman)\n",
    "S->C\n",
    "    Send salt, B=kv + g**b % N\n",
    "S, C\n",
    "    Compute string uH = SHA256(A|B), u = integer of uH\n",
    "C\n",
    "\n",
    "        Generate string xH=SHA256(salt|password)\n",
    "        Convert xH to integer x somehow (put 0x on hexdigest)\n",
    "        Generate S = (B - k * g**x)**(a + u * x) % N\n",
    "        Generate K = SHA256(S)\n",
    "\n",
    "S\n",
    "\n",
    "        Generate S = (A * v**u) ** b % N\n",
    "        Generate K = SHA256(S)\n",
    "\n",
    "C->S\n",
    "    Send HMAC-SHA256(K, salt)\n",
    "S->C\n",
    "    Send \"OK\" if HMAC-SHA256(K, salt) validates\n",
    "```\n",
    "\n",
    "You're going to want to do this at a REPL of some sort; it may take a couple tries.\n",
    "\n",
    "It doesn't matter how you go from integer to string or string to integer (where things are going in or out of SHA256) as long as you do it consistently. I tested by using the ASCII decimal representation of integers as input to SHA256, and by converting the hexdigest to an integer when processing its output.\n",
    "\n",
    "This is basically Diffie Hellman with a tweak of mixing the password into the public keys. The server also takes an extra step to avoid storing an easily crackable password-equivalent.\n"
   ]
  },
  {
   "cell_type": "markdown",
   "metadata": {},
   "source": [
    "## Parameter negotiation\n",
    "Carol and Steve agree on $N$, $g$, and $k$."
   ]
  },
  {
   "cell_type": "code",
   "execution_count": 1,
   "metadata": {},
   "outputs": [
    {
     "data": {
      "text/plain": [
       "2410312426921032588552076022197566074856950548502459942654116941958108831682612228890093858261341614673227141477904012196503648957050582631942730706805009223062734745341073406696246014589361659774041027169249453200378729434170325843778659198143763193776859869524088940195577346119843545301547043747207749969763750084308926339295559968882457872412993810129130294592999947926365264059284647209730384947211681434464714438488520940127459844288859336526896320919633919"
      ]
     },
     "execution_count": 1,
     "metadata": {},
     "output_type": "execute_result"
    }
   ],
   "source": [
    "N = int(\n",
    "\"ffffffffffffffffc90fdaa22168c234c4c6628b80dc1cd129024\"\n",
    "\"e088a67cc74020bbea63b139b22514a08798e3404ddef9519b3cd\"\n",
    "\"3a431b302b0a6df25f14374fe1356d6d51c245e485b576625e7ec\"\n",
    "\"6f44c42e9a637ed6b0bff5cb6f406b7edee386bfb5a899fa5ae9f\"\n",
    "\"24117c4b1fe649286651ece45b3dc2007cb8a163bf0598da48361\"\n",
    "\"c55d39a69163fa8fd24cf5f83655d23dca3ad961c62f356208552\"\n",
    "\"bb9ed529077096966d670c354e4abc9804f1746c08ca237327fff\"\n",
    "\"fffffffffffff\", 16)\n",
    "N"
   ]
  },
  {
   "cell_type": "markdown",
   "metadata": {},
   "source": [
    "Humm, curious bit length."
   ]
  },
  {
   "cell_type": "code",
   "execution_count": 10,
   "metadata": {},
   "outputs": [
    {
     "data": {
      "text/plain": [
       "1536"
      ]
     },
     "execution_count": 10,
     "metadata": {},
     "output_type": "execute_result"
    }
   ],
   "source": [
    "N.bit_length()"
   ]
  },
  {
   "cell_type": "code",
   "execution_count": 2,
   "metadata": {},
   "outputs": [],
   "source": [
    "g = 2\n",
    "k = 3"
   ]
  },
  {
   "cell_type": "code",
   "execution_count": 5,
   "metadata": {},
   "outputs": [],
   "source": [
    "import hashlib \n",
    "import os\n",
    "from Crypto.Util.number import long_to_bytes, bytes_to_long"
   ]
  },
  {
   "cell_type": "code",
   "execution_count": 4,
   "metadata": {},
   "outputs": [],
   "source": [
    "I = b'carol'\n",
    "P = b'foobar'"
   ]
  },
  {
   "cell_type": "markdown",
   "metadata": {},
   "source": [
    "## Client registration\n",
    "To establish a password with Steve, Carol picks a random salt $s$ and calculates $x = H(s, P)$ for a verifier $v = g^x\\mod{N}$.\n",
    "\n",
    "Carol discards $x$ and sends $I$, $s$, and $v$ to Steve.\n",
    "\n",
    "Steve stores $I$, $s$, and $v$."
   ]
  },
  {
   "cell_type": "code",
   "execution_count": 6,
   "metadata": {},
   "outputs": [
    {
     "data": {
      "text/plain": [
       "'f47581a94888a8aa'"
      ]
     },
     "execution_count": 6,
     "metadata": {},
     "output_type": "execute_result"
    }
   ],
   "source": [
    "s = os.urandom(8)\n",
    "s.hex()"
   ]
  },
  {
   "cell_type": "code",
   "execution_count": 7,
   "metadata": {},
   "outputs": [],
   "source": [
    "def client_x(salt, password):\n",
    "    h = hashlib.sha256()\n",
    "    h.update(salt)\n",
    "    h.update(password)\n",
    "    return bytes_to_long(h.digest())"
   ]
  },
  {
   "cell_type": "code",
   "execution_count": 8,
   "metadata": {},
   "outputs": [],
   "source": [
    "def verifier(salt, password):\n",
    "    x = client_x(salt, password)\n",
    "    return pow(g, x, N)"
   ]
  },
  {
   "cell_type": "code",
   "execution_count": 9,
   "metadata": {},
   "outputs": [
    {
     "data": {
      "text/plain": [
       "1650349257589804035174719337388500361604207731238101840288664779903838041600484675975330511755236522208860753321193745160912849072809972474437260178373125679338131337030425662929828322737887250063773156713001187013299018904465792728275494379397949016069509061056894014256974453269645787142741514828758709477751310711946561510153613306689726811718763376346217584665376104242194721055051859112105186686863449652174099885208769011538382887287064133857532726291629629"
      ]
     },
     "execution_count": 9,
     "metadata": {},
     "output_type": "execute_result"
    }
   ],
   "source": [
    "v = verifier(s, P)\n",
    "v"
   ]
  },
  {
   "cell_type": "markdown",
   "metadata": {},
   "source": [
    "## Proof of password\n",
    "Carol sends $I$ and $A = g^a\\mod{N}$."
   ]
  },
  {
   "cell_type": "code",
   "execution_count": 9,
   "metadata": {},
   "outputs": [],
   "source": [
    "a = randrange(N)\n",
    "A = pow(g, a, N)"
   ]
  },
  {
   "cell_type": "markdown",
   "metadata": {},
   "source": [
    "Steve sends salt $s$ and $B = kv + g^b\\mod{N}$."
   ]
  },
  {
   "cell_type": "code",
   "execution_count": 10,
   "metadata": {},
   "outputs": [],
   "source": [
    "b = randrange(N)\n",
    "B = k * v + pow(g, b, N)\n",
    "B = B % N"
   ]
  },
  {
   "cell_type": "code",
   "execution_count": 11,
   "metadata": {},
   "outputs": [],
   "source": [
    "def scramble(A, B):\n",
    "    h = hashlib.sha256()\n",
    "    h.update(long_to_bytes(A))\n",
    "    h.update(long_to_bytes(B))\n",
    "    return bytes_to_long(h.digest())"
   ]
  },
  {
   "cell_type": "markdown",
   "metadata": {},
   "source": [
    "Random scrambling parameter $u = sha256(A|B)$."
   ]
  },
  {
   "cell_type": "code",
   "execution_count": 12,
   "metadata": {},
   "outputs": [
    {
     "data": {
      "text/plain": [
       "44688017366769106269027601439288373314921681036842707310469132354182986771804"
      ]
     },
     "execution_count": 12,
     "metadata": {},
     "output_type": "execute_result"
    }
   ],
   "source": [
    "u = scramble(A, B)\n",
    "u"
   ]
  },
  {
   "cell_type": "code",
   "execution_count": 13,
   "metadata": {},
   "outputs": [
    {
     "data": {
      "text/plain": [
       "23600815288738584080465857256312575424438424966955075886375505177003911499397"
      ]
     },
     "execution_count": 13,
     "metadata": {},
     "output_type": "execute_result"
    }
   ],
   "source": [
    "x = client_x(s, P)\n",
    "x"
   ]
  },
  {
   "cell_type": "markdown",
   "metadata": {},
   "source": [
    "Carol calculates $S = (B - kg^x)^{a + ux}\\mod{N}$."
   ]
  },
  {
   "cell_type": "code",
   "execution_count": 19,
   "metadata": {},
   "outputs": [],
   "source": [
    "S_c = pow(B - k * pow(g, x, N), a + u * x, N)\n",
    "K_c = hashlib.sha256(long_to_bytes(S_c)).digest()"
   ]
  },
  {
   "cell_type": "markdown",
   "metadata": {},
   "source": [
    "Steve calculates $S = (Av^u)^b\\mod{N}$."
   ]
  },
  {
   "cell_type": "code",
   "execution_count": 20,
   "metadata": {},
   "outputs": [],
   "source": [
    "S_s = pow(A * pow(v, u, N), b, N)\n",
    "K_s = hashlib.sha256(long_to_bytes(S_s)).digest()"
   ]
  },
  {
   "cell_type": "code",
   "execution_count": 16,
   "metadata": {},
   "outputs": [],
   "source": [
    "import hmac"
   ]
  },
  {
   "cell_type": "markdown",
   "metadata": {},
   "source": [
    "Prove to each other that their keys match.\n",
    "\n",
    "Carol sends $hmac(K_c, s)$."
   ]
  },
  {
   "cell_type": "code",
   "execution_count": 17,
   "metadata": {},
   "outputs": [],
   "source": [
    "mac = hmac.digest(K_c, long_to_bytes(s), 'sha256')"
   ]
  },
  {
   "cell_type": "markdown",
   "metadata": {},
   "source": [
    "Steve verifies with $hmac(K_s, s)$."
   ]
  },
  {
   "cell_type": "code",
   "execution_count": 18,
   "metadata": {},
   "outputs": [
    {
     "data": {
      "text/plain": [
       "True"
      ]
     },
     "execution_count": 18,
     "metadata": {},
     "output_type": "execute_result"
    }
   ],
   "source": [
    "hmac.compare_digest(mac, hmac.digest(K_s, long_to_bytes(s), 'sha256'))"
   ]
  },
  {
   "cell_type": "markdown",
   "metadata": {},
   "source": [
    "_How does a keyed hash (MAC) over the salt compare to the two other methods described in wikipedia entry [18]?_"
   ]
  },
  {
   "cell_type": "code",
   "execution_count": null,
   "metadata": {},
   "outputs": [],
   "source": []
  }
 ],
 "metadata": {
  "kernelspec": {
   "display_name": "Python 3",
   "language": "python",
   "name": "python3"
  },
  "language_info": {
   "codemirror_mode": {
    "name": "ipython",
    "version": 3
   },
   "file_extension": ".py",
   "mimetype": "text/x-python",
   "name": "python",
   "nbconvert_exporter": "python",
   "pygments_lexer": "ipython3",
   "version": "3.10.13"
  }
 },
 "nbformat": 4,
 "nbformat_minor": 2
}
