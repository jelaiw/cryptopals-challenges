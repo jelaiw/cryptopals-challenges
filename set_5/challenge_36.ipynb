{
 "cells": [
  {
   "cell_type": "markdown",
   "metadata": {},
   "source": [
    "## Implement Secure Remote Password (SRP)\n",
    "\n",
    "To understand SRP, look at how you generate an AES key from DH; now, just observe you can do the \"opposite\" operation and generate a numeric parameter from a hash. Then:\n",
    "\n",
    "Replace A and B with C and S (client & server)\n",
    "```\n",
    "C & S\n",
    "    Agree on N=[NIST Prime], g=2, k=3, I (email), P (password)\n",
    "S\n",
    "\n",
    "        Generate salt as random integer\n",
    "        Generate string xH=SHA256(salt|password)\n",
    "        Convert xH to integer x somehow (put 0x on hexdigest)\n",
    "        Generate v=g**x % N\n",
    "        Save everything but x, xH\n",
    "\n",
    "C->S\n",
    "    Send I, A=g**a % N (a la Diffie Hellman)\n",
    "S->C\n",
    "    Send salt, B=kv + g**b % N\n",
    "S, C\n",
    "    Compute string uH = SHA256(A|B), u = integer of uH\n",
    "C\n",
    "\n",
    "        Generate string xH=SHA256(salt|password)\n",
    "        Convert xH to integer x somehow (put 0x on hexdigest)\n",
    "        Generate S = (B - k * g**x)**(a + u * x) % N\n",
    "        Generate K = SHA256(S)\n",
    "\n",
    "S\n",
    "\n",
    "        Generate S = (A * v**u) ** b % N\n",
    "        Generate K = SHA256(S)\n",
    "\n",
    "C->S\n",
    "    Send HMAC-SHA256(K, salt)\n",
    "S->C\n",
    "    Send \"OK\" if HMAC-SHA256(K, salt) validates\n",
    "```\n",
    "\n",
    "You're going to want to do this at a REPL of some sort; it may take a couple tries.\n",
    "\n",
    "It doesn't matter how you go from integer to string or string to integer (where things are going in or out of SHA256) as long as you do it consistently. I tested by using the ASCII decimal representation of integers as input to SHA256, and by converting the hexdigest to an integer when processing its output.\n",
    "\n",
    "This is basically Diffie Hellman with a tweak of mixing the password into the public keys. The server also takes an extra step to avoid storing an easily crackable password-equivalent.\n"
   ]
  },
  {
   "cell_type": "code",
   "execution_count": null,
   "metadata": {},
   "outputs": [],
   "source": []
  }
 ],
 "metadata": {
  "language_info": {
   "name": "python"
  }
 },
 "nbformat": 4,
 "nbformat_minor": 2
}
