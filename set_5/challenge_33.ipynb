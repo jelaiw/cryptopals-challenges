{
 "cells": [
  {
   "cell_type": "markdown",
   "metadata": {},
   "source": [
    "## Implement Diffie-Hellman\n",
    "\n",
    "For one of the most important algorithms in cryptography this exercise couldn't be a whole lot easier.\n",
    "\n",
    "### Warm up with a small prime\n",
    "Set a variable \"p\" to 37 and \"g\" to 5. This algorithm is so easy I'm not even going to explain it. Just do what I do.\n",
    "\n",
    "Generate \"a\", a random number mod 37. Now generate \"A\", which is \"g\" raised to the \"a\" power mode 37 --- A = (g**a) % p.\n",
    "\n",
    "Do the same for \"b\" and \"B\".\n",
    "\n",
    "\"A\" and \"B\" are public keys. Generate a session key with them; set \"s\" to \"B\" raised to the \"a\" power mod 37 --- s = (B**a) % p.\n",
    "\n",
    "Do the same with A**b, check that you come up with the same \"s\".\n"
   ]
  },
  {
   "cell_type": "code",
   "execution_count": 1,
   "metadata": {},
   "outputs": [],
   "source": [
    "p = 37\n",
    "g = 5"
   ]
  },
  {
   "cell_type": "code",
   "execution_count": 2,
   "metadata": {},
   "outputs": [],
   "source": [
    "from random import randrange"
   ]
  },
  {
   "cell_type": "markdown",
   "metadata": {},
   "source": [
    "This is Alice's private key $a$."
   ]
  },
  {
   "cell_type": "code",
   "execution_count": 3,
   "metadata": {},
   "outputs": [
    {
     "data": {
      "text/plain": [
       "21"
      ]
     },
     "execution_count": 3,
     "metadata": {},
     "output_type": "execute_result"
    }
   ],
   "source": [
    "a = randrange(1, p)\n",
    "a"
   ]
  },
  {
   "cell_type": "markdown",
   "metadata": {},
   "source": [
    "This is Alice's public key $A$, which she sends to Bob."
   ]
  },
  {
   "cell_type": "code",
   "execution_count": 4,
   "metadata": {},
   "outputs": [
    {
     "data": {
      "text/plain": [
       "23"
      ]
     },
     "execution_count": 4,
     "metadata": {},
     "output_type": "execute_result"
    }
   ],
   "source": [
    "A = pow(g, a, p)\n",
    "A"
   ]
  },
  {
   "cell_type": "markdown",
   "metadata": {},
   "source": [
    "This is Bob's private key $b$."
   ]
  },
  {
   "cell_type": "code",
   "execution_count": 5,
   "metadata": {},
   "outputs": [
    {
     "data": {
      "text/plain": [
       "25"
      ]
     },
     "execution_count": 5,
     "metadata": {},
     "output_type": "execute_result"
    }
   ],
   "source": [
    "b = randrange(1, p)\n",
    "b"
   ]
  },
  {
   "cell_type": "markdown",
   "metadata": {},
   "source": [
    "This is Bob's public key $B$, which he sends to Alice."
   ]
  },
  {
   "cell_type": "code",
   "execution_count": 6,
   "metadata": {},
   "outputs": [
    {
     "data": {
      "text/plain": [
       "19"
      ]
     },
     "execution_count": 6,
     "metadata": {},
     "output_type": "execute_result"
    }
   ],
   "source": [
    "B = pow(g, b, p)\n",
    "B"
   ]
  },
  {
   "cell_type": "markdown",
   "metadata": {},
   "source": [
    "Shared secret $s$ calculated from Alice's perspective."
   ]
  },
  {
   "cell_type": "code",
   "execution_count": 7,
   "metadata": {},
   "outputs": [
    {
     "data": {
      "text/plain": [
       "23"
      ]
     },
     "execution_count": 7,
     "metadata": {},
     "output_type": "execute_result"
    }
   ],
   "source": [
    "s = pow(B, a, p)\n",
    "s"
   ]
  },
  {
   "cell_type": "markdown",
   "metadata": {},
   "source": [
    "Confirm shared secret $s$ is the same from Bob's perspective."
   ]
  },
  {
   "cell_type": "code",
   "execution_count": 8,
   "metadata": {},
   "outputs": [],
   "source": [
    "assert s == pow(A, b, p)"
   ]
  },
  {
   "cell_type": "markdown",
   "metadata": {},
   "source": [
    "### Turn shared secret into a key\n",
    "To turn \"s\" into a key, you can just hash it to create 128 bits of key material (or SHA256 it to create a key for encrypting and a key for a MAC). "
   ]
  },
  {
   "cell_type": "markdown",
   "metadata": {},
   "source": [
    "For giggles, let's dissect the provided key derivation for (CryptoHack) DH starter challenges."
   ]
  },
  {
   "cell_type": "code",
   "execution_count": 9,
   "metadata": {},
   "outputs": [],
   "source": [
    "import hashlib"
   ]
  },
  {
   "cell_type": "code",
   "execution_count": 10,
   "metadata": {},
   "outputs": [
    {
     "data": {
      "text/plain": [
       "20"
      ]
     },
     "execution_count": 10,
     "metadata": {},
     "output_type": "execute_result"
    }
   ],
   "source": [
    "sha1 = hashlib.sha1()\n",
    "sha1.digest_size"
   ]
  },
  {
   "cell_type": "code",
   "execution_count": 11,
   "metadata": {},
   "outputs": [
    {
     "data": {
      "text/plain": [
       "'23'"
      ]
     },
     "execution_count": 11,
     "metadata": {},
     "output_type": "execute_result"
    }
   ],
   "source": [
    "str(s)"
   ]
  },
  {
   "cell_type": "code",
   "execution_count": 12,
   "metadata": {},
   "outputs": [
    {
     "data": {
      "text/plain": [
       "b'23'"
      ]
     },
     "execution_count": 12,
     "metadata": {},
     "output_type": "execute_result"
    }
   ],
   "source": [
    "str(s).encode('ascii')"
   ]
  },
  {
   "cell_type": "code",
   "execution_count": 13,
   "metadata": {},
   "outputs": [],
   "source": [
    "sha1.update(str(s).encode('ascii'))"
   ]
  },
  {
   "cell_type": "code",
   "execution_count": 14,
   "metadata": {},
   "outputs": [
    {
     "data": {
      "text/plain": [
       "b'\\xd45\\xa6\\xcd\\xd7\\x860\\r\\xff N\\xe7\\xc2\\xef\\x94->\\x904\\xe2'"
      ]
     },
     "execution_count": 14,
     "metadata": {},
     "output_type": "execute_result"
    }
   ],
   "source": [
    "key = sha1.digest()\n",
    "key"
   ]
  },
  {
   "cell_type": "code",
   "execution_count": 15,
   "metadata": {},
   "outputs": [
    {
     "data": {
      "text/plain": [
       "20"
      ]
     },
     "execution_count": 15,
     "metadata": {},
     "output_type": "execute_result"
    }
   ],
   "source": [
    "len(key)"
   ]
  },
  {
   "cell_type": "code",
   "execution_count": 16,
   "metadata": {},
   "outputs": [
    {
     "name": "stdout",
     "output_type": "stream",
     "text": [
      "b'\\xd45\\xa6\\xcd\\xd7\\x860\\r\\xff N\\xe7\\xc2\\xef\\x94-' 16\n"
     ]
    }
   ],
   "source": [
    "print(key[:16], len(key[:16]))"
   ]
  },
  {
   "cell_type": "markdown",
   "metadata": {},
   "source": [
    "Ok, that was fun, now repeat the exercise with bignums like in the real world. Here are parameters NIST likes:\n",
    "\n",
    "```\n",
    "p:\n",
    "ffffffffffffffffc90fdaa22168c234c4c6628b80dc1cd129024\n",
    "e088a67cc74020bbea63b139b22514a08798e3404ddef9519b3cd\n",
    "3a431b302b0a6df25f14374fe1356d6d51c245e485b576625e7ec\n",
    "6f44c42e9a637ed6b0bff5cb6f406b7edee386bfb5a899fa5ae9f\n",
    "24117c4b1fe649286651ece45b3dc2007cb8a163bf0598da48361\n",
    "c55d39a69163fa8fd24cf5f83655d23dca3ad961c62f356208552\n",
    "bb9ed529077096966d670c354e4abc9804f1746c08ca237327fff\n",
    "fffffffffffff\n",
    " \n",
    "g: 2\n",
    "```\n",
    "\n",
    "This is very easy to do in Python or Ruby or other high-level languages that auto-promote fixnums to bignums, but it isn't \"hard\" anywhere.\n",
    "\n",
    "Note that you'll need to write your own modexp (this is blackboard math, don't freak out), because you'll blow out your bignum library raising \"a\" to the 1024-bit-numberth power. You can find modexp routines on Rosetta Code for most languages. "
   ]
  },
  {
   "cell_type": "code",
   "execution_count": 2,
   "metadata": {},
   "outputs": [
    {
     "data": {
      "text/plain": [
       "2410312426921032588552076022197566074856950548502459942654116941958108831682612228890093858261341614673227141477904012196503648957050582631942730706805009223062734745341073406696246014589361659774041027169249453200378729434170325843778659198143763193776859869524088940195577346119843545301547043747207749969763750084308926339295559968882457872412993810129130294592999947926365264059284647209730384947211681434464714438488520940127459844288859336526896320919633919"
      ]
     },
     "execution_count": 2,
     "metadata": {},
     "output_type": "execute_result"
    }
   ],
   "source": [
    "g = 2\n",
    "p = int(\n",
    "\"ffffffffffffffffc90fdaa22168c234c4c6628b80dc1cd129024\"\n",
    "\"e088a67cc74020bbea63b139b22514a08798e3404ddef9519b3cd\"\n",
    "\"3a431b302b0a6df25f14374fe1356d6d51c245e485b576625e7ec\"\n",
    "\"6f44c42e9a637ed6b0bff5cb6f406b7edee386bfb5a899fa5ae9f\"\n",
    "\"24117c4b1fe649286651ece45b3dc2007cb8a163bf0598da48361\"\n",
    "\"c55d39a69163fa8fd24cf5f83655d23dca3ad961c62f356208552\"\n",
    "\"bb9ed529077096966d670c354e4abc9804f1746c08ca237327fff\"\n",
    "\"fffffffffffff\", 16)\n",
    "p"
   ]
  },
  {
   "cell_type": "code",
   "execution_count": null,
   "metadata": {},
   "outputs": [],
   "source": []
  }
 ],
 "metadata": {
  "kernelspec": {
   "display_name": "Python 3",
   "language": "python",
   "name": "python3"
  },
  "language_info": {
   "codemirror_mode": {
    "name": "ipython",
    "version": 3
   },
   "file_extension": ".py",
   "mimetype": "text/x-python",
   "name": "python",
   "nbconvert_exporter": "python",
   "pygments_lexer": "ipython3",
   "version": "3.10.13"
  }
 },
 "nbformat": 4,
 "nbformat_minor": 2
}
