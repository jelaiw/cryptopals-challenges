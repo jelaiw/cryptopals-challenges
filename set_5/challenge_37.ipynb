{
 "cells": [
  {
   "cell_type": "markdown",
   "metadata": {},
   "source": [
    "## Break SRP with a zero key\n",
    "\n",
    "Get your SRP working in an actual client-server setting. \"Log in\" with a valid password using the protocol.\n",
    "\n",
    "Now log in without your password by having the client send 0 as its \"A\" value. What does this to the \"S\" value that both sides compute?\n",
    "\n",
    "Now log in without your password by having the client send N, N*2, &c. "
   ]
  },
  {
   "cell_type": "code",
   "execution_count": null,
   "metadata": {},
   "outputs": [],
   "source": []
  },
  {
   "cell_type": "markdown",
   "metadata": {},
   "source": [
    "### Cryptanalytic MVP award\n",
    "\n",
    "Trevor Perrin and Nate Lawson taught us this attack 7 years ago. It is excellent. Attacks on DH are tricky to \"operationalize\". But this attack uses the same concepts, and results in auth bypass. Almost every implementation of SRP we've ever seen has this flaw; if you see a new one, go look for this bug.\n"
   ]
  }
 ],
 "metadata": {
  "language_info": {
   "name": "python"
  }
 },
 "nbformat": 4,
 "nbformat_minor": 2
}
