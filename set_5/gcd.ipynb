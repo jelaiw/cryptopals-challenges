{
 "cells": [
  {
   "cell_type": "code",
   "execution_count": 1,
   "metadata": {},
   "outputs": [],
   "source": [
    "def gcd(a, b):\n",
    "    assert a >= 0 and b >= 0 and a + b > 0\n",
    "\n",
    "    if a == 0 or b == 0:\n",
    "        return max(a, b)\n",
    "\n",
    "    for d in range(min(a, b), 0, -1):\n",
    "        if a % d == 0 and b % d == 0:\n",
    "            return d\n",
    "    \n",
    "    return 1"
   ]
  },
  {
   "cell_type": "code",
   "execution_count": 2,
   "metadata": {},
   "outputs": [
    {
     "data": {
      "text/plain": [
       "239"
      ]
     },
     "execution_count": 2,
     "metadata": {},
     "output_type": "execute_result"
    }
   ],
   "source": [
    "gcd(239, 0)"
   ]
  },
  {
   "cell_type": "code",
   "execution_count": 3,
   "metadata": {},
   "outputs": [
    {
     "data": {
      "text/plain": [
       "8"
      ]
     },
     "execution_count": 3,
     "metadata": {},
     "output_type": "execute_result"
    }
   ],
   "source": [
    "gcd(24, 16)"
   ]
  },
  {
   "cell_type": "code",
   "execution_count": 4,
   "metadata": {},
   "outputs": [
    {
     "data": {
      "text/plain": [
       "1"
      ]
     },
     "execution_count": 4,
     "metadata": {},
     "output_type": "execute_result"
    }
   ],
   "source": [
    "gcd(9, 17)"
   ]
  },
  {
   "cell_type": "code",
   "execution_count": 5,
   "metadata": {},
   "outputs": [],
   "source": [
    "def gcd(a, b):\n",
    "    assert a >= 0 and b >= 0 and a + b > 0\n",
    "\n",
    "    while a > 0 and b > 0:\n",
    "        if a >= b:\n",
    "            a = a - b\n",
    "        else:\n",
    "            b = b - a\n",
    "\n",
    "    return max(a, b)"
   ]
  },
  {
   "cell_type": "code",
   "execution_count": 6,
   "metadata": {},
   "outputs": [
    {
     "data": {
      "text/plain": [
       "3416723"
      ]
     },
     "execution_count": 6,
     "metadata": {},
     "output_type": "execute_result"
    }
   ],
   "source": [
    "gcd(790933790547, 1849639579327)"
   ]
  },
  {
   "cell_type": "code",
   "execution_count": 7,
   "metadata": {},
   "outputs": [],
   "source": [
    "def gcd(a, b):\n",
    "    assert a >= 0 and b >= 0 and a + b > 0\n",
    "\n",
    "    while a > 0 and b > 0:\n",
    "        print(f\"gcd({a}, {b}) =\")\n",
    "        if a >= b:\n",
    "            a = a % b\n",
    "        else:\n",
    "            b = b % a\n",
    "\n",
    "    print(f\"gcd({a}, {b}) =\")\n",
    "    print(max(a, b))"
   ]
  },
  {
   "cell_type": "code",
   "execution_count": 8,
   "metadata": {},
   "outputs": [
    {
     "name": "stdout",
     "output_type": "stream",
     "text": [
      "gcd(790933790548, 7) =\n",
      "gcd(6, 7) =\n",
      "gcd(6, 1) =\n",
      "gcd(0, 1) =\n",
      "1\n"
     ]
    }
   ],
   "source": [
    "gcd(790933790548, 7)"
   ]
  },
  {
   "cell_type": "code",
   "execution_count": 9,
   "metadata": {},
   "outputs": [
    {
     "name": "stdout",
     "output_type": "stream",
     "text": [
      "gcd(24, 16) =\n",
      "gcd(8, 16) =\n",
      "gcd(8, 0) =\n",
      "8\n"
     ]
    }
   ],
   "source": [
    "gcd(24, 16)"
   ]
  },
  {
   "cell_type": "code",
   "execution_count": 10,
   "metadata": {},
   "outputs": [
    {
     "name": "stdout",
     "output_type": "stream",
     "text": [
      "gcd(9, 17) =\n",
      "gcd(9, 8) =\n",
      "gcd(1, 8) =\n",
      "gcd(1, 0) =\n",
      "1\n"
     ]
    }
   ],
   "source": [
    "gcd(9, 17)"
   ]
  },
  {
   "cell_type": "code",
   "execution_count": 11,
   "metadata": {},
   "outputs": [
    {
     "name": "stdout",
     "output_type": "stream",
     "text": [
      "gcd(790933790547, 1849639579327) =\n",
      "gcd(790933790547, 267771998233) =\n",
      "gcd(255389794081, 267771998233) =\n",
      "gcd(255389794081, 12382204152) =\n",
      "gcd(7745711041, 12382204152) =\n",
      "gcd(7745711041, 4636493111) =\n",
      "gcd(3109217930, 4636493111) =\n",
      "gcd(3109217930, 1527275181) =\n",
      "gcd(54667568, 1527275181) =\n",
      "gcd(54667568, 51250845) =\n",
      "gcd(3416723, 51250845) =\n",
      "gcd(3416723, 0) =\n",
      "3416723\n"
     ]
    }
   ],
   "source": [
    "gcd(790933790547, 1849639579327)"
   ]
  },
  {
   "cell_type": "code",
   "execution_count": 12,
   "metadata": {},
   "outputs": [],
   "source": [
    "def gcd(a, b):\n",
    "    assert a >= 0 and b >= 0 and a + b > 0\n",
    "    print(f\"gcd({a}, {b}) = \")\n",
    "    return gcd(b, a % b) if b > 0 else a"
   ]
  },
  {
   "cell_type": "code",
   "execution_count": 13,
   "metadata": {},
   "outputs": [
    {
     "name": "stdout",
     "output_type": "stream",
     "text": [
      "gcd(9, 17) = \n",
      "gcd(17, 9) = \n",
      "gcd(9, 8) = \n",
      "gcd(8, 1) = \n",
      "gcd(1, 0) = \n",
      "1\n"
     ]
    }
   ],
   "source": [
    "print(gcd(9, 17))"
   ]
  },
  {
   "cell_type": "code",
   "execution_count": 14,
   "metadata": {},
   "outputs": [
    {
     "name": "stdout",
     "output_type": "stream",
     "text": [
      "gcd(17, 9) = \n",
      "gcd(9, 8) = \n",
      "gcd(8, 1) = \n",
      "gcd(1, 0) = \n",
      "1\n"
     ]
    }
   ],
   "source": [
    "print(gcd(17, 9))"
   ]
  },
  {
   "cell_type": "code",
   "execution_count": null,
   "metadata": {},
   "outputs": [],
   "source": []
  }
 ],
 "metadata": {
  "kernelspec": {
   "display_name": "Python 3",
   "language": "python",
   "name": "python3"
  },
  "language_info": {
   "codemirror_mode": {
    "name": "ipython",
    "version": 3
   },
   "file_extension": ".py",
   "mimetype": "text/x-python",
   "name": "python",
   "nbconvert_exporter": "python",
   "pygments_lexer": "ipython3",
   "version": "3.10.13"
  }
 },
 "nbformat": 4,
 "nbformat_minor": 2
}
