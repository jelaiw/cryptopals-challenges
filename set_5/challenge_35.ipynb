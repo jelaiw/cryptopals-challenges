{
 "cells": [
  {
   "cell_type": "markdown",
   "metadata": {},
   "source": [
    "## Implement DH with negotiated groups, and break with malicious \"g\" parameters\n",
    "\n",
    "```\n",
    "A->B\n",
    "    Send \"p\", \"g\"\n",
    "B->A\n",
    "    Send ACK\n",
    "A->B\n",
    "    Send \"A\"\n",
    "B->A\n",
    "    Send \"B\"\n",
    "A->B\n",
    "    Send AES-CBC(SHA1(s)[0:16], iv=random(16), msg) + iv\n",
    "B->A\n",
    "    Send AES-CBC(SHA1(s)[0:16], iv=random(16), A's msg) + iv \n",
    "```"
   ]
  },
  {
   "cell_type": "markdown",
   "metadata": {},
   "source": [
    " Do the MITM attack again, but play with \"g\". What happens with:\n",
    "\n",
    "```\n",
    "    g = 1\n",
    "    g = p\n",
    "    g = p - 1\n",
    "```\n",
    "\n",
    "Write attacks for each. "
   ]
  },
  {
   "cell_type": "markdown",
   "metadata": {},
   "source": [
    "Alice randomly selects private value $a$ and calculates public value $A = g^{a}\\mod{p}$, which is sent to Bob.\n",
    "\n",
    "For $g = 1$, Alice sends $A = 1^a\\mod{p} = 1$. Bob calculates shared secret $s = A^b\\mod{p} = 1^b\\mod{p} = 1$. In other words, if MITM attacker can inject a malicious $g = 1$ parameter into the DH group negotiation, the shared secret is forced to have value $1$.\n",
    "\n",
    "For $g = p$, Alice sends $A = p^a\\mod{p}$. Bob calculates shared secret $s = A^b\\mod{p} = (p^a)^b\\mod{p} = p^{ab}\\mod{p} = 0$, so the shared secret is forced to the value of $0$."
   ]
  },
  {
   "cell_type": "markdown",
   "metadata": {},
   "source": [
    "Not sure what happens for $g = p - 1$, let's play."
   ]
  },
  {
   "cell_type": "code",
   "execution_count": 1,
   "metadata": {},
   "outputs": [
    {
     "data": {
      "text/plain": [
       "2410312426921032588552076022197566074856950548502459942654116941958108831682612228890093858261341614673227141477904012196503648957050582631942730706805009223062734745341073406696246014589361659774041027169249453200378729434170325843778659198143763193776859869524088940195577346119843545301547043747207749969763750084308926339295559968882457872412993810129130294592999947926365264059284647209730384947211681434464714438488520940127459844288859336526896320919633919"
      ]
     },
     "execution_count": 1,
     "metadata": {},
     "output_type": "execute_result"
    }
   ],
   "source": [
    "p = int(\n",
    "\"ffffffffffffffffc90fdaa22168c234c4c6628b80dc1cd129024\"\n",
    "\"e088a67cc74020bbea63b139b22514a08798e3404ddef9519b3cd\"\n",
    "\"3a431b302b0a6df25f14374fe1356d6d51c245e485b576625e7ec\"\n",
    "\"6f44c42e9a637ed6b0bff5cb6f406b7edee386bfb5a899fa5ae9f\"\n",
    "\"24117c4b1fe649286651ece45b3dc2007cb8a163bf0598da48361\"\n",
    "\"c55d39a69163fa8fd24cf5f83655d23dca3ad961c62f356208552\"\n",
    "\"bb9ed529077096966d670c354e4abc9804f1746c08ca237327fff\"\n",
    "\"fffffffffffff\", 16)\n",
    "p"
   ]
  },
  {
   "cell_type": "code",
   "execution_count": 2,
   "metadata": {},
   "outputs": [],
   "source": [
    "g = p - 1"
   ]
  },
  {
   "cell_type": "code",
   "execution_count": 3,
   "metadata": {},
   "outputs": [],
   "source": [
    "from random import randrange"
   ]
  },
  {
   "cell_type": "code",
   "execution_count": 4,
   "metadata": {},
   "outputs": [
    {
     "data": {
      "text/plain": [
       "853985539902227884792671979705632874992389566317062556262742515110945573893579475326834860981702986870595144037196892933915151564196802799565929399956246202707874244073957760337675350870226504768944862154251766648823075762066757117085521672932617139697744479465365108828317550371946175359975103444430190282122477120328089560344462040540545020808677188460569116705213355417016981351770108668295764804228932383447297493663713504621647155461541938556200424670119178"
      ]
     },
     "execution_count": 4,
     "metadata": {},
     "output_type": "execute_result"
    }
   ],
   "source": [
    "a = randrange(1, p)\n",
    "a"
   ]
  },
  {
   "cell_type": "code",
   "execution_count": 5,
   "metadata": {},
   "outputs": [
    {
     "data": {
      "text/plain": [
       "1"
      ]
     },
     "execution_count": 5,
     "metadata": {},
     "output_type": "execute_result"
    }
   ],
   "source": [
    "A = pow(g, a, p)\n",
    "A"
   ]
  },
  {
   "cell_type": "markdown",
   "metadata": {},
   "source": [
    "For $g = p - 1$, Alice sends $A = (p - 1)^a\\mod{p}$ to Bob.\n",
    "\n",
    "If $a = 1$, then $A = p - 1$. \n",
    "\n",
    "If $a = 2$, then $A = (p - 1)^2\\mod{p} = p^2 - 2p + 1\\mod{p} = 1$\n",
    "\n",
    "If $a$ is odd, then $A = p - 1$. If $a$ is even, then $A = 1$."
   ]
  },
  {
   "cell_type": "markdown",
   "metadata": {},
   "source": [
    "### When does this ever happen?\n",
    "Honestly, not that often in real-world systems. If you can mess with \"g\", chances are you can mess with something worse. Most systems pre-agree on a static DH group. But the same construction exists in Elliptic Curve Diffie-Hellman, and this becomes more relevant there.\n"
   ]
  },
  {
   "cell_type": "code",
   "execution_count": null,
   "metadata": {},
   "outputs": [],
   "source": []
  }
 ],
 "metadata": {
  "kernelspec": {
   "display_name": "Python 3",
   "language": "python",
   "name": "python3"
  },
  "language_info": {
   "codemirror_mode": {
    "name": "ipython",
    "version": 3
   },
   "file_extension": ".py",
   "mimetype": "text/x-python",
   "name": "python",
   "nbconvert_exporter": "python",
   "pygments_lexer": "ipython3",
   "version": "3.10.13"
  }
 },
 "nbformat": 4,
 "nbformat_minor": 2
}
