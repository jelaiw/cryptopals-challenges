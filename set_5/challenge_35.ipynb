{
 "cells": [
  {
   "cell_type": "markdown",
   "metadata": {},
   "source": [
    "## Implement DH with negotiated groups, and break with malicious \"g\" parameters\n",
    "\n",
    "```\n",
    "A->B\n",
    "    Send \"p\", \"g\"\n",
    "B->A\n",
    "    Send ACK\n",
    "A->B\n",
    "    Send \"A\"\n",
    "B->A\n",
    "    Send \"B\"\n",
    "A->B\n",
    "    Send AES-CBC(SHA1(s)[0:16], iv=random(16), msg) + iv\n",
    "B->A\n",
    "    Send AES-CBC(SHA1(s)[0:16], iv=random(16), A's msg) + iv \n",
    "```"
   ]
  },
  {
   "cell_type": "markdown",
   "metadata": {},
   "source": [
    " Do the MITM attack again, but play with \"g\". What happens with:\n",
    "\n",
    "```\n",
    "    g = 1\n",
    "    g = p\n",
    "    g = p - 1\n",
    "```\n",
    "\n",
    "Write attacks for each. "
   ]
  },
  {
   "cell_type": "markdown",
   "metadata": {},
   "source": [
    "Alice randomly selects private value $a$ and calculates public value $A = g^{a}\\mod{p}$, which is sent to Bob.\n",
    "\n",
    "For $g = 1$, Alice sends $A = 1^a\\mod{p} = 1$. Bob calculates shared secret $s = A^b\\mod{p} = 1^b\\mod{p} = 1$. In other words, if MITM attacker can inject a malicious $g = 1$ parameter into the DH group negotiation, the shared secret is forced to have value $1$.\n",
    "\n",
    "For $g = p$ the calculation of shared secret $s$ from Bob's perspective is $s = A^b\\mod{p} = (p^a)^b\\mod{p} = p^{ab}\\mod{p} = 0$, so the shared secret is forced to the value of $0$."
   ]
  },
  {
   "cell_type": "markdown",
   "metadata": {},
   "source": [
    "### When does this ever happen?\n",
    "Honestly, not that often in real-world systems. If you can mess with \"g\", chances are you can mess with something worse. Most systems pre-agree on a static DH group. But the same construction exists in Elliptic Curve Diffie-Hellman, and this becomes more relevant there.\n"
   ]
  },
  {
   "cell_type": "code",
   "execution_count": null,
   "metadata": {},
   "outputs": [],
   "source": []
  }
 ],
 "metadata": {
  "kernelspec": {
   "display_name": "Python 3",
   "language": "python",
   "name": "python3"
  },
  "language_info": {
   "codemirror_mode": {
    "name": "ipython",
    "version": 3
   },
   "file_extension": ".py",
   "mimetype": "text/x-python",
   "name": "python",
   "nbconvert_exporter": "python",
   "pygments_lexer": "ipython3",
   "version": "3.10.13"
  }
 },
 "nbformat": 4,
 "nbformat_minor": 2
}
