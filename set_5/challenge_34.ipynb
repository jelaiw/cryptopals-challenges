{
 "cells": [
  {
   "cell_type": "markdown",
   "metadata": {},
   "source": [
    "## Implement a MITM key-fixing attack on Diffie-Hellman with parameter injection\n",
    "\n",
    "Use the code you just worked out to build a protocol and an \"echo\" bot. You don't actually have to do the network part of this if you don't want; just simulate that. The protocol is:\n",
    "\n",
    "```\n",
    "A->B\n",
    "    Send \"p\", \"g\", \"A\"\n",
    "B->A\n",
    "    Send \"B\"\n",
    "A->B\n",
    "    Send AES-CBC(SHA1(s)[0:16], iv=random(16), msg) + iv\n",
    "B->A\n",
    "    Send AES-CBC(SHA1(s)[0:16], iv=random(16), A's msg) + iv\n",
    "```\n",
    "\n",
    "(In other words, derive an AES key from DH with SHA1, use it in both directions, and do CBC with random IVs appended or prepended to the message). "
   ]
  },
  {
   "cell_type": "markdown",
   "metadata": {},
   "source": [
    "Now implement the following MITM attack:\n",
    "\n",
    "```\n",
    "A->M\n",
    "    Send \"p\", \"g\", \"A\"\n",
    "M->B\n",
    "    Send \"p\", \"g\", \"p\"\n",
    "B->M\n",
    "    Send \"B\"\n",
    "M->A\n",
    "    Send \"p\"\n",
    "A->M\n",
    "    Send AES-CBC(SHA1(s)[0:16], iv=random(16), msg) + iv\n",
    "M->B\n",
    "    Relay that to B\n",
    "B->M\n",
    "    Send AES-CBC(SHA1(s)[0:16], iv=random(16), A's msg) + iv\n",
    "M->A\n",
    "    Relay that to A\n",
    "```\n",
    "\n",
    "M should be able to decrypt the messages. \"A\" and \"B\" in the protocol --- the public keys, over the wire --- have been swapped out with \"p\". Do the DH math on this quickly to see what that does to the predictability of the key.\n",
    "\n",
    "Decrypt the messages from M's vantage point as they go by. "
   ]
  },
  {
   "cell_type": "markdown",
   "metadata": {},
   "source": [
    "Note that you don't actually have to inject bogus parameters to make this attack work; you could just generate Ma, MA, Mb, and MB as valid DH parameters to do a generic MITM attack. But do the parameter injection attack; it's going to come up again. "
   ]
  },
  {
   "cell_type": "code",
   "execution_count": null,
   "metadata": {},
   "outputs": [],
   "source": []
  }
 ],
 "metadata": {
  "language_info": {
   "name": "python"
  }
 },
 "nbformat": 4,
 "nbformat_minor": 2
}
