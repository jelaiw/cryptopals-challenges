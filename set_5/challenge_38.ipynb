{
 "cells": [
  {
   "cell_type": "markdown",
   "metadata": {},
   "source": [
    "## Offline dictionary attack on simplified SRP\n",
    "```\n",
    "S\n",
    "x = SHA256(salt|password)\n",
    "    v = g**x % n\n",
    "\n",
    "C->S\n",
    "I, A = g**a % n\n",
    "\n",
    "S->C\n",
    "salt, B = g**b % n, u = 128 bit random number\n",
    "\n",
    "C\n",
    "x = SHA256(salt|password)\n",
    "    S = B**(a + ux) % n\n",
    "    K = SHA256(S)\n",
    "\n",
    "S\n",
    "S = (A * v ** u)**b % n\n",
    "    K = SHA256(S)\n",
    "\n",
    "C->S\n",
    "Send HMAC-SHA256(K, salt)\n",
    "S->C\n",
    "Send \"OK\" if HMAC-SHA256(K, salt) validates\n",
    "```\n",
    "\n",
    "Note that in this protocol, the server's \"B\" parameter doesn't depend on the password (it's just a Diffie Hellman public key).\n",
    "\n",
    "Make sure the protocol works given a valid password.\n",
    "\n",
    "Now, run the protocol as a MITM attacker: pose as the server and use arbitrary values for b, B, u, and salt.\n",
    "\n",
    "Crack the password from A's HMAC-SHA256(K, salt).\n"
   ]
  },
  {
   "cell_type": "markdown",
   "metadata": {},
   "source": [
    "## Parameter negotiation\n",
    "Carol and Steve agree on $N$ and $g$."
   ]
  },
  {
   "cell_type": "code",
   "execution_count": 1,
   "metadata": {},
   "outputs": [],
   "source": [
    "# A large safe prime (N = 2q+1, where q is prime)\n",
    "# All arithmetic is done modulo N\n",
    "# (generated using \"openssl dhparam -text 1024\")\n",
    "N = \"\"\"00:c0:37:c3:75:88:b4:32:98:87:e6:1c:2d:a3:32:\n",
    "       4b:1b:a4:b8:1a:63:f9:74:8f:ed:2d:8a:41:0c:2f:\n",
    "       c2:1b:12:32:f0:d3:bf:a0:24:27:6c:fd:88:44:81:\n",
    "       97:aa:e4:86:a6:3b:fc:a7:b8:bf:77:54:df:b3:27:\n",
    "       c7:20:1f:6f:d1:7f:d7:fd:74:15:8b:d3:1c:e7:72:\n",
    "       c9:f5:f8:ab:58:45:48:a9:9a:75:9b:5a:2c:05:32:\n",
    "       16:2b:7b:62:18:e8:f1:42:bc:e2:c3:0d:77:84:68:\n",
    "       9a:48:3e:09:5e:70:16:18:43:79:13:a8:c3:9c:3d:\n",
    "       d0:d4:ca:3c:50:0b:88:5f:e3\"\"\"\n",
    "\n",
    "N = int(\"\".join(N.split()).replace(\":\", \"\"), 16)\n",
    "g = 2 # A generator modulo N"
   ]
  },
  {
   "cell_type": "code",
   "execution_count": 2,
   "metadata": {},
   "outputs": [
    {
     "data": {
      "text/plain": [
       "1024"
      ]
     },
     "execution_count": 2,
     "metadata": {},
     "output_type": "execute_result"
    }
   ],
   "source": [
    "N.bit_length()"
   ]
  },
  {
   "cell_type": "code",
   "execution_count": 3,
   "metadata": {},
   "outputs": [],
   "source": [
    "I = b'carol'\n",
    "password = b'foobar'"
   ]
  },
  {
   "cell_type": "markdown",
   "metadata": {},
   "source": [
    "## Client registration\n",
    "Carol sends salt and verifier $v$ to Steve.\n",
    "\n",
    "Steve stores salt and $v$."
   ]
  },
  {
   "cell_type": "code",
   "execution_count": 4,
   "metadata": {},
   "outputs": [],
   "source": [
    "import os\n",
    "import hashlib"
   ]
  },
  {
   "cell_type": "code",
   "execution_count": 5,
   "metadata": {},
   "outputs": [
    {
     "data": {
      "text/plain": [
       "'a0ce6b3558fac047'"
      ]
     },
     "execution_count": 5,
     "metadata": {},
     "output_type": "execute_result"
    }
   ],
   "source": [
    "salt = os.urandom(8)\n",
    "salt.hex()"
   ]
  },
  {
   "cell_type": "code",
   "execution_count": 6,
   "metadata": {},
   "outputs": [
    {
     "data": {
      "text/plain": [
       "64"
      ]
     },
     "execution_count": 6,
     "metadata": {},
     "output_type": "execute_result"
    }
   ],
   "source": [
    "int.from_bytes(salt, byteorder='big').bit_length() # Confirm 64-bit salt. :-\\"
   ]
  },
  {
   "cell_type": "code",
   "execution_count": 7,
   "metadata": {},
   "outputs": [
    {
     "data": {
      "text/plain": [
       "'1d1ad2c18f08d35ab45ac6a99f888ed5e38eb11170bd35b9ec155989353c73b8'"
      ]
     },
     "execution_count": 7,
     "metadata": {},
     "output_type": "execute_result"
    }
   ],
   "source": [
    "sha256 = hashlib.sha256()\n",
    "sha256.update(salt)\n",
    "sha256.update(password)\n",
    "x = sha256.digest()\n",
    "x.hex()"
   ]
  },
  {
   "cell_type": "code",
   "execution_count": 8,
   "metadata": {},
   "outputs": [],
   "source": [
    "x = int.from_bytes(x, byteorder=\"big\")"
   ]
  },
  {
   "cell_type": "code",
   "execution_count": 9,
   "metadata": {},
   "outputs": [
    {
     "data": {
      "text/plain": [
       "93207369554840988258178257633432713421800657908911100487525262719273024365871723892842350982738538542834877188638923251097689279124732123677680707089412897744314411883369981779489358956443468394620931103270066650563690350039158551434149252138468494883550764145678096967702669043221727010142023128468944792628"
      ]
     },
     "execution_count": 9,
     "metadata": {},
     "output_type": "execute_result"
    }
   ],
   "source": [
    "v = pow(g, x, N)\n",
    "v"
   ]
  },
  {
   "cell_type": "markdown",
   "metadata": {},
   "source": [
    "## Proof of Password\n",
    "\n",
    "Carol sends $I$ and $A = g^a\\mod{N}$."
   ]
  },
  {
   "cell_type": "code",
   "execution_count": 10,
   "metadata": {},
   "outputs": [],
   "source": [
    "from secrets import randbelow"
   ]
  },
  {
   "cell_type": "code",
   "execution_count": 11,
   "metadata": {},
   "outputs": [],
   "source": [
    "a = randbelow(N)\n",
    "A = pow(g, a, N)"
   ]
  },
  {
   "cell_type": "markdown",
   "metadata": {},
   "source": [
    "Steve sends salt, $B = g^b\\mod{N}$, and $u$ (a 128-bit random number)."
   ]
  },
  {
   "cell_type": "code",
   "execution_count": 12,
   "metadata": {},
   "outputs": [],
   "source": [
    "b = randbelow(N)\n",
    "B = pow(g, b, N)"
   ]
  },
  {
   "cell_type": "code",
   "execution_count": 13,
   "metadata": {},
   "outputs": [
    {
     "data": {
      "text/plain": [
       "222334989561627904865494199452972795048"
      ]
     },
     "execution_count": 13,
     "metadata": {},
     "output_type": "execute_result"
    }
   ],
   "source": [
    "u = int.from_bytes(os.urandom(16), byteorder='big')\n",
    "u"
   ]
  },
  {
   "cell_type": "code",
   "execution_count": 14,
   "metadata": {},
   "outputs": [],
   "source": [
    "from Crypto.Util.number import long_to_bytes"
   ]
  },
  {
   "cell_type": "markdown",
   "metadata": {},
   "source": [
    "Carol calculates $S = B^{a + ux}\\mod{N}$."
   ]
  },
  {
   "cell_type": "code",
   "execution_count": 15,
   "metadata": {},
   "outputs": [
    {
     "data": {
      "text/plain": [
       "'11aa789639e341a33e9994a10780c995c0f89825d27fe7da73a81897d638e2e6'"
      ]
     },
     "execution_count": 15,
     "metadata": {},
     "output_type": "execute_result"
    }
   ],
   "source": [
    "S_c = pow(B, a + u * x, N)\n",
    "K_c = hashlib.sha256(long_to_bytes(S_c)).digest()\n",
    "K_c.hex()"
   ]
  },
  {
   "cell_type": "markdown",
   "metadata": {},
   "source": [
    "Steve calculates $S = (A + v^u)^b\\mod{N}$."
   ]
  },
  {
   "cell_type": "code",
   "execution_count": 16,
   "metadata": {},
   "outputs": [
    {
     "data": {
      "text/plain": [
       "'11aa789639e341a33e9994a10780c995c0f89825d27fe7da73a81897d638e2e6'"
      ]
     },
     "execution_count": 16,
     "metadata": {},
     "output_type": "execute_result"
    }
   ],
   "source": [
    "S_s = pow(A * pow(v, u, N), b, N)\n",
    "K_s = hashlib.sha256(long_to_bytes(S_s)).digest()\n",
    "K_s.hex()"
   ]
  },
  {
   "cell_type": "code",
   "execution_count": 17,
   "metadata": {},
   "outputs": [],
   "source": [
    "import hmac"
   ]
  },
  {
   "cell_type": "markdown",
   "metadata": {},
   "source": [
    "Carol sends $MAC(K_c, salt)$."
   ]
  },
  {
   "cell_type": "code",
   "execution_count": 18,
   "metadata": {},
   "outputs": [],
   "source": [
    "mac = hmac.digest(K_c, salt, digest='sha256')"
   ]
  },
  {
   "cell_type": "markdown",
   "metadata": {},
   "source": [
    "Steve verifies against $MAC(K_s, salt)$."
   ]
  },
  {
   "cell_type": "code",
   "execution_count": 19,
   "metadata": {},
   "outputs": [
    {
     "data": {
      "text/plain": [
       "True"
      ]
     },
     "execution_count": 19,
     "metadata": {},
     "output_type": "execute_result"
    }
   ],
   "source": [
    "hmac.compare_digest(mac, hmac.digest(K_s, salt, digest='sha256'))"
   ]
  },
  {
   "cell_type": "code",
   "execution_count": null,
   "metadata": {},
   "outputs": [],
   "source": []
  }
 ],
 "metadata": {
  "kernelspec": {
   "display_name": "Python 3",
   "language": "python",
   "name": "python3"
  },
  "language_info": {
   "codemirror_mode": {
    "name": "ipython",
    "version": 3
   },
   "file_extension": ".py",
   "mimetype": "text/x-python",
   "name": "python",
   "nbconvert_exporter": "python",
   "pygments_lexer": "ipython3",
   "version": "3.10.13"
  }
 },
 "nbformat": 4,
 "nbformat_minor": 2
}
