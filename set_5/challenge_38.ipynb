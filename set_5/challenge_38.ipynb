{
 "cells": [
  {
   "cell_type": "markdown",
   "metadata": {},
   "source": [
    "## Offline dictionary attack on simplified SRP\n",
    "```\n",
    "S\n",
    "x = SHA256(salt|password)\n",
    "    v = g**x % n\n",
    "\n",
    "C->S\n",
    "I, A = g**a % n\n",
    "\n",
    "S->C\n",
    "salt, B = g**b % n, u = 128 bit random number\n",
    "\n",
    "C\n",
    "x = SHA256(salt|password)\n",
    "    S = B**(a + ux) % n\n",
    "    K = SHA256(S)\n",
    "\n",
    "S\n",
    "S = (A * v ** u)**b % n\n",
    "    K = SHA256(S)\n",
    "\n",
    "C->S\n",
    "Send HMAC-SHA256(K, salt)\n",
    "S->C\n",
    "Send \"OK\" if HMAC-SHA256(K, salt) validates\n",
    "```\n",
    "\n",
    "Note that in this protocol, the server's \"B\" parameter doesn't depend on the password (it's just a Diffie Hellman public key).\n",
    "\n",
    "Make sure the protocol works given a valid password.\n",
    "\n",
    "Now, run the protocol as a MITM attacker: pose as the server and use arbitrary values for b, B, u, and salt.\n",
    "\n",
    "Crack the password from A's HMAC-SHA256(K, salt).\n"
   ]
  },
  {
   "cell_type": "code",
   "execution_count": null,
   "metadata": {},
   "outputs": [],
   "source": []
  }
 ],
 "metadata": {
  "language_info": {
   "name": "python"
  }
 },
 "nbformat": 4,
 "nbformat_minor": 2
}
