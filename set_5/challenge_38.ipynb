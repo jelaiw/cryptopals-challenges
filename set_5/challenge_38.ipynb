{
 "cells": [
  {
   "cell_type": "markdown",
   "metadata": {},
   "source": [
    "## Offline dictionary attack on simplified SRP\n",
    "```\n",
    "S\n",
    "x = SHA256(salt|password)\n",
    "    v = g**x % n\n",
    "\n",
    "C->S\n",
    "I, A = g**a % n\n",
    "\n",
    "S->C\n",
    "salt, B = g**b % n, u = 128 bit random number\n",
    "\n",
    "C\n",
    "x = SHA256(salt|password)\n",
    "    S = B**(a + ux) % n\n",
    "    K = SHA256(S)\n",
    "\n",
    "S\n",
    "S = (A * v ** u)**b % n\n",
    "    K = SHA256(S)\n",
    "\n",
    "C->S\n",
    "Send HMAC-SHA256(K, salt)\n",
    "S->C\n",
    "Send \"OK\" if HMAC-SHA256(K, salt) validates\n",
    "```\n",
    "\n",
    "Note that in this protocol, the server's \"B\" parameter doesn't depend on the password (it's just a Diffie Hellman public key).\n",
    "\n",
    "Make sure the protocol works given a valid password.\n",
    "\n",
    "Now, run the protocol as a MITM attacker: pose as the server and use arbitrary values for b, B, u, and salt.\n",
    "\n",
    "Crack the password from A's HMAC-SHA256(K, salt).\n"
   ]
  },
  {
   "cell_type": "markdown",
   "metadata": {},
   "source": [
    "## Parameter negotiation\n",
    "Carol and Steve agree on $N$ and $g$."
   ]
  },
  {
   "cell_type": "code",
   "execution_count": 1,
   "metadata": {},
   "outputs": [],
   "source": [
    "# A large safe prime (N = 2q+1, where q is prime)\n",
    "# All arithmetic is done modulo N\n",
    "# (generated using \"openssl dhparam -text 1024\")\n",
    "N = \"\"\"00:c0:37:c3:75:88:b4:32:98:87:e6:1c:2d:a3:32:\n",
    "       4b:1b:a4:b8:1a:63:f9:74:8f:ed:2d:8a:41:0c:2f:\n",
    "       c2:1b:12:32:f0:d3:bf:a0:24:27:6c:fd:88:44:81:\n",
    "       97:aa:e4:86:a6:3b:fc:a7:b8:bf:77:54:df:b3:27:\n",
    "       c7:20:1f:6f:d1:7f:d7:fd:74:15:8b:d3:1c:e7:72:\n",
    "       c9:f5:f8:ab:58:45:48:a9:9a:75:9b:5a:2c:05:32:\n",
    "       16:2b:7b:62:18:e8:f1:42:bc:e2:c3:0d:77:84:68:\n",
    "       9a:48:3e:09:5e:70:16:18:43:79:13:a8:c3:9c:3d:\n",
    "       d0:d4:ca:3c:50:0b:88:5f:e3\"\"\"\n",
    "\n",
    "N = int(\"\".join(N.split()).replace(\":\", \"\"), 16)\n",
    "g = 2 # A generator modulo N"
   ]
  },
  {
   "cell_type": "code",
   "execution_count": 2,
   "metadata": {},
   "outputs": [],
   "source": [
    "I = b'carol'\n",
    "password = b'foobar'"
   ]
  },
  {
   "cell_type": "markdown",
   "metadata": {},
   "source": [
    "## Client registration\n",
    "Carol sends salt and verifier $v$ to Steve.\n",
    "\n",
    "Steve stores salt and $v$."
   ]
  },
  {
   "cell_type": "code",
   "execution_count": 3,
   "metadata": {},
   "outputs": [],
   "source": [
    "import os\n",
    "import hashlib"
   ]
  },
  {
   "cell_type": "code",
   "execution_count": 4,
   "metadata": {},
   "outputs": [
    {
     "name": "stdout",
     "output_type": "stream",
     "text": [
      "64 4de4a86e229bc8b2bdbc49c232372f8be2dc02d0b292f5c74e17b8c2fcb0dd4a69bce42052891fc5bc4b8a9f626260264939c9059487d7cec36166d80823c9a6\n"
     ]
    }
   ],
   "source": [
    "salt = os.urandom(64)\n",
    "print(len(salt), salt.hex())"
   ]
  },
  {
   "cell_type": "code",
   "execution_count": 5,
   "metadata": {},
   "outputs": [
    {
     "data": {
      "text/plain": [
       "'aef39b990a10a498c14c172d22a0805528d56f73c877ea6c873ac32a18b6a1f2'"
      ]
     },
     "execution_count": 5,
     "metadata": {},
     "output_type": "execute_result"
    }
   ],
   "source": [
    "sha256 = hashlib.sha256()\n",
    "sha256.update(salt)\n",
    "sha256.update(password)\n",
    "x = sha256.digest()\n",
    "x.hex()"
   ]
  },
  {
   "cell_type": "code",
   "execution_count": 6,
   "metadata": {},
   "outputs": [],
   "source": [
    "x = int.from_bytes(x, byteorder=\"big\")"
   ]
  },
  {
   "cell_type": "code",
   "execution_count": 7,
   "metadata": {},
   "outputs": [
    {
     "data": {
      "text/plain": [
       "130010863821338766212798769022741766476173545768192241575703211151659831295347954380957738906438577800781045419865716095315043710194775051648409561725748714695965426316454364062778547624011722368703121722600375543671304844060059220310680120233401895110866908137817323383349801506135281231186901467967308098540"
      ]
     },
     "execution_count": 7,
     "metadata": {},
     "output_type": "execute_result"
    }
   ],
   "source": [
    "v = pow(g, x, N)\n",
    "v"
   ]
  },
  {
   "cell_type": "code",
   "execution_count": null,
   "metadata": {},
   "outputs": [],
   "source": []
  }
 ],
 "metadata": {
  "kernelspec": {
   "display_name": "Python 3",
   "language": "python",
   "name": "python3"
  },
  "language_info": {
   "codemirror_mode": {
    "name": "ipython",
    "version": 3
   },
   "file_extension": ".py",
   "mimetype": "text/x-python",
   "name": "python",
   "nbconvert_exporter": "python",
   "pygments_lexer": "ipython3",
   "version": "3.10.13"
  }
 },
 "nbformat": 4,
 "nbformat_minor": 2
}
