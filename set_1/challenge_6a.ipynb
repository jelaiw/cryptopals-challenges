{
 "cells": [
  {
   "cell_type": "code",
   "execution_count": 1,
   "metadata": {},
   "outputs": [],
   "source": [
    "stanza = b'''Burning 'em, if you ain't quick and nimble\n",
    "I go crazy when I hear a cymbal'''"
   ]
  },
  {
   "cell_type": "code",
   "execution_count": 2,
   "metadata": {},
   "outputs": [
    {
     "data": {
      "text/plain": [
       "'0b3637272a2b2e63622c2e69692a23693a2a3c6324202d623d63343c2a26226324272765272a282b2f20430a652e2c652a3124333a653e2b2027630c692b20283165286326302e27282f'"
      ]
     },
     "execution_count": 2,
     "metadata": {},
     "output_type": "execute_result"
    }
   ],
   "source": [
    "from pwn import xor\n",
    "ciphertext = xor(b'ICE', stanza)\n",
    "ciphertext.hex()"
   ]
  },
  {
   "cell_type": "code",
   "execution_count": 3,
   "metadata": {},
   "outputs": [],
   "source": [
    "from scipy.spatial import distance"
   ]
  },
  {
   "cell_type": "code",
   "execution_count": 4,
   "metadata": {},
   "outputs": [],
   "source": [
    "def to_1d_array(byte_str):\n",
    "    tmp = ''\n",
    "    for b in byte_str:\n",
    "        tmp += format(b, '08b')\n",
    "    return [int(ch) for ch in tmp]"
   ]
  },
  {
   "cell_type": "code",
   "execution_count": 5,
   "metadata": {},
   "outputs": [
    {
     "data": {
      "text/plain": [
       "{2: 0.375,\n",
       " 3: 0.375,\n",
       " 4: 0.34375,\n",
       " 5: 0.275,\n",
       " 6: 0.3541666666666667,\n",
       " 7: 0.32142857142857145,\n",
       " 8: 0.359375}"
      ]
     },
     "execution_count": 5,
     "metadata": {},
     "output_type": "execute_result"
    }
   ],
   "source": [
    "d = {}\n",
    "for ks in range(2, 9):\n",
    "    chunk1 = ciphertext[:ks]\n",
    "    chunk2 = ciphertext[ks:ks + ks]\n",
    "    d[ks] = distance.hamming(to_1d_array(chunk1), to_1d_array(chunk2))\n",
    "d"
   ]
  }
 ],
 "metadata": {
  "kernelspec": {
   "display_name": "Python 3",
   "language": "python",
   "name": "python3"
  },
  "language_info": {
   "codemirror_mode": {
    "name": "ipython",
    "version": 3
   },
   "file_extension": ".py",
   "mimetype": "text/x-python",
   "name": "python",
   "nbconvert_exporter": "python",
   "pygments_lexer": "ipython3",
   "version": "3.10.13"
  }
 },
 "nbformat": 4,
 "nbformat_minor": 2
}
