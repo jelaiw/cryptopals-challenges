{
 "cells": [
  {
   "cell_type": "markdown",
   "metadata": {},
   "source": [
    "## Detect AES in ECB mode\n",
    "\n",
    "[In this file](https://www.cryptopals.com/static/challenge-data/8.txt) are a bunch of hex-encoded ciphertexts.\n",
    "\n",
    "One of them has been encrypted with ECB.\n",
    "\n",
    "Detect it.\n",
    "\n",
    "Remember that the problem with ECB is that it is stateless and deterministic; the same 16 byte plaintext block will always produce the same 16 byte ciphertext.\n"
   ]
  },
  {
   "cell_type": "code",
   "execution_count": 1,
   "metadata": {},
   "outputs": [
    {
     "data": {
      "text/plain": [
       "204"
      ]
     },
     "execution_count": 1,
     "metadata": {},
     "output_type": "execute_result"
    }
   ],
   "source": [
    "lines = None\n",
    "with open('8.txt', 'r') as f:\n",
    "    lines = f.readlines()\n",
    "len(lines)"
   ]
  },
  {
   "cell_type": "code",
   "execution_count": 2,
   "metadata": {},
   "outputs": [],
   "source": [
    "def detect_ecb(line):\n",
    "    BLOCK_SIZE = 16\n",
    "    counts = {}\n",
    "    for i in range(0, len(line), BLOCK_SIZE):\n",
    "        block = line[i:i + BLOCK_SIZE]\n",
    "        if block not in counts:\n",
    "            counts[block] = 0\n",
    "        counts[block] += 1\n",
    "    return max(counts.values()) > 1, counts"
   ]
  },
  {
   "cell_type": "code",
   "execution_count": 3,
   "metadata": {},
   "outputs": [
    {
     "name": "stdout",
     "output_type": "stream",
     "text": [
      "132 {'d880619740a8a19b': 1, '7840a8a31c810a3d': 1, '08649af70dc06f4f': 4, 'd5d2d69c744cd283': 4, 'e2dd052f6b641dbf': 1, '9d11b0348542bb57': 1, '9475c9dfdbc1d465': 1, '97949d9c7e82bf5a': 1, '97a93eab8d6aecd5': 1, '66489154789a6b03': 1, 'd403180c98c8f6db': 1, '1f2a3f9c4040deb0': 1, 'ab51b29933f2c123': 1, 'c58386b06fba186a': 1, '\\n': 1}\n"
     ]
    }
   ],
   "source": [
    "for index, line in enumerate(lines):\n",
    "    is_ecb, counts = detect_ecb(line)\n",
    "    if (is_ecb):\n",
    "        print(index, counts)"
   ]
  },
  {
   "cell_type": "code",
   "execution_count": 4,
   "metadata": {},
   "outputs": [
    {
     "data": {
      "text/plain": [
       "'d880619740a8a19b7840a8a31c810a3d08649af70dc06f4fd5d2d69c744cd283e2dd052f6b641dbf9d11b0348542bb5708649af70dc06f4fd5d2d69c744cd2839475c9dfdbc1d46597949d9c7e82bf5a08649af70dc06f4fd5d2d69c744cd28397a93eab8d6aecd566489154789a6b0308649af70dc06f4fd5d2d69c744cd283d403180c98c8f6db1f2a3f9c4040deb0ab51b29933f2c123c58386b06fba186a\\n'"
      ]
     },
     "execution_count": 4,
     "metadata": {},
     "output_type": "execute_result"
    }
   ],
   "source": [
    "lines[132]"
   ]
  },
  {
   "cell_type": "markdown",
   "metadata": {},
   "source": [
    "## Recon\n",
    "Tinker with first line to figure out approach."
   ]
  },
  {
   "cell_type": "code",
   "execution_count": 2,
   "metadata": {},
   "outputs": [
    {
     "data": {
      "text/plain": [
       "160"
      ]
     },
     "execution_count": 2,
     "metadata": {},
     "output_type": "execute_result"
    }
   ],
   "source": [
    "test = bytes.fromhex(lines[0])\n",
    "len(test)"
   ]
  },
  {
   "cell_type": "code",
   "execution_count": 3,
   "metadata": {},
   "outputs": [],
   "source": [
    "BLOCK_SIZE = 16\n",
    "counts = {}\n",
    "for i in range(0, len(test), BLOCK_SIZE):\n",
    "    block = test[i:i + BLOCK_SIZE]\n",
    "    if block not in counts:\n",
    "        counts[block] = 0\n",
    "    counts[block] += 1"
   ]
  },
  {
   "cell_type": "code",
   "execution_count": 4,
   "metadata": {},
   "outputs": [],
   "source": [
    "from pprint import pprint"
   ]
  },
  {
   "cell_type": "code",
   "execution_count": 5,
   "metadata": {},
   "outputs": [
    {
     "name": "stdout",
     "output_type": "stream",
     "text": [
      "{b'?\\xc4@o\\x8f\\xe7;\\xbfx\\xe8\\x03\\xe1\\xd9\\x95\\xceM': 1,\n",
      " b'V\\xac\\xcf\\x13\\xba\\x1a\\xf3l\\xa7\\xa9\\x1aPS<M\\x89': 1,\n",
      " b'o_m\\x05\\xc2\\x1e\\xc8\\xdc\\xa0\\xcb\\x0b\\xe0,?\\x8b\\t': 1,\n",
      " b'~_\\xf2\"7\\x96\\x98t\\xbff\\xcb\\x855~\\xf9\\x99': 1,\n",
      " b'\\x8a\\x10$\\x7f\\x90\\xd0\\xa0U8\\x88\\x8a\\xd6 X\\x82\\x19': 1,\n",
      " b'\\xb75?\\x90\\x8cZ\\x16gt);\\x0b\\xf6$s\\x91': 1,\n",
      " b'\\xdfi\\xc8}\\xac\\xc4\\x12Z\\x99\\xecAr!\\xb5\\x81p': 1,\n",
      " b'\\xe3\\x82\\x96?D:\\xa5\\x14\\xda\\xa5\\x01%{\\t\\xa3k': 1,\n",
      " b'\\xe638\\x1e8G\\xc6\\xb1\\xc2\\x8d\\xda)\\x13\\xc0\\x11\\xe1': 1,\n",
      " b'\\xf8\\xc4\\xc3\\x92\\xd8\\xca\\x1b\\xf49_\\r_%B\\x14\\x8c': 1}\n"
     ]
    }
   ],
   "source": [
    "pprint(counts)"
   ]
  },
  {
   "cell_type": "code",
   "execution_count": null,
   "metadata": {},
   "outputs": [],
   "source": []
  }
 ],
 "metadata": {
  "kernelspec": {
   "display_name": "Python 3",
   "language": "python",
   "name": "python3"
  },
  "language_info": {
   "codemirror_mode": {
    "name": "ipython",
    "version": 3
   },
   "file_extension": ".py",
   "mimetype": "text/x-python",
   "name": "python",
   "nbconvert_exporter": "python",
   "pygments_lexer": "ipython3",
   "version": "3.10.13"
  }
 },
 "nbformat": 4,
 "nbformat_minor": 2
}
