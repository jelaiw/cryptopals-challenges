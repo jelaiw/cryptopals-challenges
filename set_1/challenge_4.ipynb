{
 "cells": [
  {
   "cell_type": "markdown",
   "metadata": {},
   "source": [
    "\n",
    "## Detect single-character XOR\n",
    "\n",
    "One of the 60-character strings in [this file](https://www.cryptopals.com/static/challenge-data/4.txt) has been encrypted by single-character XOR.\n",
    "\n",
    "Find it.\n",
    "\n",
    "(Your code from #3 should help.)\n"
   ]
  },
  {
   "cell_type": "code",
   "execution_count": 1,
   "metadata": {},
   "outputs": [],
   "source": [
    "MOST_FREQUENT = \"etaoinETAOIN shrdluSHRDLU\"\n",
    "def score_candidate(plaintext):\n",
    "    score = 0\n",
    "    for b in plaintext:\n",
    "        ch = chr(b)\n",
    "        if ch in MOST_FREQUENT:\n",
    "            score += 1\n",
    "    return score"
   ]
  },
  {
   "cell_type": "code",
   "execution_count": 2,
   "metadata": {},
   "outputs": [],
   "source": [
    "from pwn import xor"
   ]
  },
  {
   "cell_type": "code",
   "execution_count": 3,
   "metadata": {},
   "outputs": [],
   "source": [
    "def detect_single_char_xor(ciphertext):\n",
    "    THRESHOLD = round(0.52 * len(ciphertext))\n",
    "    for b in range(128): # Try ASCII characters from table, including non-printing. See asciitable.com.\n",
    "        plaintext = xor(ciphertext, chr(b).encode())\n",
    "        score = score_candidate(plaintext)\n",
    "        if score > THRESHOLD:\n",
    "            print(score, plaintext)"
   ]
  },
  {
   "cell_type": "code",
   "execution_count": 4,
   "metadata": {},
   "outputs": [
    {
     "name": "stdout",
     "output_type": "stream",
     "text": [
      "Read 327 lines.\n",
      "17 b'rSK\\x1cHT]H\\x1cHTY\\x1cL]NHE\\x1cUO\\x1cVIQLUR[6'\n",
      "17 b'nOW\\x00THAT\\x00THE\\x00PARTY\\x00IS\\x00JUMPING*'\n",
      "17 b'Rsk<ht}h<hty<l}nhe<uo<viqlur{\\x16'\n",
      "22 b'Now that the party is jumping\\n'\n",
      "17 b'u\\x0b\\teX\\xacnsQHE\\x0f}pUse\\x17nR\\x1brW\\x1bouQEAS'\n",
      "17 b'U+)Ex\\x8cNSqhe/]PuSE7Nr;Rw;OUqeas'\n"
     ]
    }
   ],
   "source": [
    "with open('4.txt', 'r') as f:\n",
    "    lines = f.readlines()\n",
    "    print(f\"Read {len(lines)} lines.\")\n",
    "    for line in lines:\n",
    "        detect_single_char_xor(bytes.fromhex(line))"
   ]
  },
  {
   "cell_type": "code",
   "execution_count": null,
   "metadata": {},
   "outputs": [],
   "source": []
  }
 ],
 "metadata": {
  "kernelspec": {
   "display_name": "Python 3",
   "language": "python",
   "name": "python3"
  },
  "language_info": {
   "codemirror_mode": {
    "name": "ipython",
    "version": 3
   },
   "file_extension": ".py",
   "mimetype": "text/x-python",
   "name": "python",
   "nbconvert_exporter": "python",
   "pygments_lexer": "ipython3",
   "version": "3.10.13"
  }
 },
 "nbformat": 4,
 "nbformat_minor": 2
}
