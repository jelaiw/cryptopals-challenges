{
 "cells": [
  {
   "cell_type": "markdown",
   "metadata": {},
   "source": [
    "\n",
    "## Detect single-character XOR\n",
    "\n",
    "One of the 60-character strings in [this file](https://www.cryptopals.com/static/challenge-data/4.txt) has been encrypted by single-character XOR.\n",
    "\n",
    "Find it.\n",
    "\n",
    "(Your code from #3 should help.)\n"
   ]
  },
  {
   "cell_type": "code",
   "execution_count": null,
   "metadata": {},
   "outputs": [],
   "source": []
  }
 ],
 "metadata": {
  "language_info": {
   "name": "python"
  }
 },
 "nbformat": 4,
 "nbformat_minor": 2
}
