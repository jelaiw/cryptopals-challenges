{
 "cells": [
  {
   "cell_type": "markdown",
   "metadata": {},
   "source": [
    "## Single-byte XOR cipher\n",
    "\n",
    "The hex encoded string:\n",
    "\n",
    "```\n",
    "1b37373331363f78151b7f2b783431333d78397828372d363c78373e783a393b3736\n",
    "```\n",
    "\n",
    "... has been XOR'd against a single character. Find the key, decrypt the message.\n",
    "\n",
    "You can do this by hand. But don't: write code to do it for you.\n",
    "\n",
    "How? Devise some method for \"scoring\" a piece of English plaintext. Character frequency is a good metric. Evaluate each output and choose the one with the best score. "
   ]
  },
  {
   "cell_type": "code",
   "execution_count": 1,
   "metadata": {},
   "outputs": [
    {
     "data": {
      "text/plain": [
       "b'\\x1b77316?x\\x15\\x1b\\x7f+x413=x9x(7-6<x7>x:9;76'"
      ]
     },
     "execution_count": 1,
     "metadata": {},
     "output_type": "execute_result"
    }
   ],
   "source": [
    "ciphertext = bytes.fromhex('1b37373331363f78151b7f2b783431333d78397828372d363c78373e783a393b3736')\n",
    "ciphertext"
   ]
  },
  {
   "cell_type": "code",
   "execution_count": 4,
   "metadata": {},
   "outputs": [],
   "source": [
    "from pwn import xor\n",
    "import string"
   ]
  },
  {
   "cell_type": "code",
   "execution_count": 14,
   "metadata": {},
   "outputs": [],
   "source": [
    "def score_candidate(plaintext):\n",
    "    score = 0\n",
    "    for b in plaintext:\n",
    "        ch = chr(b)\n",
    "        if ch in string.ascii_letters:\n",
    "            score += 2\n",
    "        elif ch in string.digits:\n",
    "            score += 1\n",
    "        elif ch in string.whitespace:\n",
    "            score += 3\n",
    "    return score"
   ]
  },
  {
   "cell_type": "code",
   "execution_count": 8,
   "metadata": {},
   "outputs": [
    {
     "data": {
      "text/plain": [
       "6"
      ]
     },
     "execution_count": 8,
     "metadata": {},
     "output_type": "execute_result"
    }
   ],
   "source": [
    "score_candidate(b'foobar')"
   ]
  },
  {
   "cell_type": "code",
   "execution_count": 9,
   "metadata": {},
   "outputs": [
    {
     "data": {
      "text/plain": [
       "34"
      ]
     },
     "execution_count": 9,
     "metadata": {},
     "output_type": "execute_result"
    }
   ],
   "source": [
    "len(ciphertext)"
   ]
  },
  {
   "cell_type": "code",
   "execution_count": 18,
   "metadata": {},
   "outputs": [
    {
     "name": "stdout",
     "output_type": "stream",
     "text": [
      "72 b\"Cooking MC's like a pound of bacon\"\n",
      "66 b'jFFB@GN\\tdj\\x0eZ\\tE@BL\\tH\\tYF\\\\GM\\tFO\\tKHJFG'\n",
      "73 b'iEEACDM\\ngi\\rY\\nFCAO\\nK\\nZE_DN\\nEL\\nHKIED'\n",
      "67 b'hDD@BEL\\x0bfh\\x0cX\\x0bGB@N\\x0bJ\\x0b[D^EO\\x0bDM\\x0bIJHDE'\n",
      "69 b'oCCGEBK\\x0cao\\x0b_\\x0c@EGI\\x0cM\\x0c\\\\CYBH\\x0cCJ\\x0cNMOCB'\n",
      "69 b'nBBFDCJ\\r`n\\n^\\rADFH\\rL\\r]BXCI\\rBK\\rOLNBC'\n"
     ]
    }
   ],
   "source": [
    "THRESHOLD = 59\n",
    "for b in range(128):\n",
    "    plaintext = xor(ciphertext, chr(b).encode())\n",
    "    score = score_candidate(plaintext)\n",
    "    if score > THRESHOLD:\n",
    "        print(score, plaintext)"
   ]
  },
  {
   "cell_type": "markdown",
   "metadata": {},
   "source": [
    "### Achievement Unlocked\n",
    "\n",
    "You now have our permission to make \"ETAOIN SHRDLU\" jokes on Twitter."
   ]
  }
 ],
 "metadata": {
  "kernelspec": {
   "display_name": "Python 3",
   "language": "python",
   "name": "python3"
  },
  "language_info": {
   "codemirror_mode": {
    "name": "ipython",
    "version": 3
   },
   "file_extension": ".py",
   "mimetype": "text/x-python",
   "name": "python",
   "nbconvert_exporter": "python",
   "pygments_lexer": "ipython3",
   "version": "3.10.13"
  }
 },
 "nbformat": 4,
 "nbformat_minor": 2
}
