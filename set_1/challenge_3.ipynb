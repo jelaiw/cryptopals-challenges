{
 "cells": [
  {
   "cell_type": "markdown",
   "metadata": {},
   "source": [
    "## Single-byte XOR cipher\n",
    "\n",
    "The hex encoded string:\n",
    "\n",
    "```\n",
    "1b37373331363f78151b7f2b783431333d78397828372d363c78373e783a393b3736\n",
    "```\n",
    "\n",
    "... has been XOR'd against a single character. Find the key, decrypt the message.\n",
    "\n",
    "You can do this by hand. But don't: write code to do it for you.\n",
    "\n",
    "How? Devise some method for \"scoring\" a piece of English plaintext. Character frequency is a good metric. Evaluate each output and choose the one with the best score. "
   ]
  },
  {
   "cell_type": "code",
   "execution_count": 1,
   "metadata": {},
   "outputs": [
    {
     "data": {
      "text/plain": [
       "b'\\x1b77316?x\\x15\\x1b\\x7f+x413=x9x(7-6<x7>x:9;76'"
      ]
     },
     "execution_count": 1,
     "metadata": {},
     "output_type": "execute_result"
    }
   ],
   "source": [
    "ciphertext = bytes.fromhex('1b37373331363f78151b7f2b783431333d78397828372d363c78373e783a393b3736')\n",
    "ciphertext"
   ]
  },
  {
   "cell_type": "code",
   "execution_count": 4,
   "metadata": {},
   "outputs": [],
   "source": [
    "from pwn import xor\n",
    "import string"
   ]
  },
  {
   "cell_type": "code",
   "execution_count": 7,
   "metadata": {},
   "outputs": [],
   "source": [
    "def score_candidate(plaintext):\n",
    "    score = 0\n",
    "    for b in plaintext:\n",
    "        ch = chr(b)\n",
    "        if ch in string.ascii_letters or ch in string.digits:\n",
    "            score += 1\n",
    "    return score"
   ]
  },
  {
   "cell_type": "code",
   "execution_count": 8,
   "metadata": {},
   "outputs": [
    {
     "data": {
      "text/plain": [
       "6"
      ]
     },
     "execution_count": 8,
     "metadata": {},
     "output_type": "execute_result"
    }
   ],
   "source": [
    "score_candidate(b'foobar')"
   ]
  },
  {
   "cell_type": "code",
   "execution_count": 9,
   "metadata": {},
   "outputs": [
    {
     "data": {
      "text/plain": [
       "34"
      ]
     },
     "execution_count": 9,
     "metadata": {},
     "output_type": "execute_result"
    }
   ],
   "source": [
    "len(ciphertext)"
   ]
  },
  {
   "cell_type": "code",
   "execution_count": 13,
   "metadata": {},
   "outputs": [
    {
     "name": "stdout",
     "output_type": "stream",
     "text": [
      "23 b'\\x1599=?81v\\x1b\\x15q%v:?=3v7v&9#82v90v47598'\n",
      "23 b'\\x1488<>90w\\x1a\\x14p$w;><2w6w\\'8\"93w81w56489'\n",
      "26 b'[wwsqv\\x7f8U[?k8tqs}8y8hwmv|8w~8zy{wv'\n",
      "28 b'Zvvrpw~9TZ>j9upr|9x9ivlw}9v\\x7f9{xzvw'\n",
      "23 b'Xttpru|;VX<h;wrp~;z;ktnu\\x7f;t};yzxtu'\n",
      "24 b'R~~zx\\x7fv1\\\\R6b1}xzt1p1a~d\\x7fu1~w1spr~\\x7f'\n",
      "23 b'P||xz}t3^P4`3\\x7fzxv3r3c|f}w3|u3qrp|}'\n",
      "25 b'W{{\\x7f}zs4YW3g4x}\\x7fq4u4d{azp4{r4vuw{z'\n",
      "26 b'Vzz~|{r5XV2f5y|~p5t5ez`{q5zs5wtvz{'\n",
      "29 b'Uyy}\\x7fxq6[U1e6z\\x7f}s6w6fycxr6yp6twuyx'\n",
      "29 b'Txx|~yp7ZT0d7{~|r7v7gxbys7xq7uvtxy'\n",
      "25 b'Kggcafo(EK/{(dacm(i(xg}fl(gn(jikgf'\n",
      "24 b'Jffb`gn)DJ.z)e`bl)h)yf|gm)fo)khjfg'\n",
      "26 b'Ieeacdm*GI-y*fcao*k*ze\\x7fdn*el*hkied'\n",
      "23 b'Hdd`bel+FH,x+gb`n+j+{d~eo+dm+ijhde'\n",
      "24 b'Occgebk,AO+\\x7f,`egi,m,|cybh,cj,nmocb'\n",
      "24 b'Nbbfdcj-@N*~-adfh-l-}bxci-bk-olnbc'\n",
      "27 b\"Cooking MC's like a pound of bacon\"\n",
      "25 b'Bnnjhof!LB&r!mhjd!`!qntoe!ng!c`bno'\n",
      "26 b'Ammikle\"OA%q\"nkig\"c\"rmwlf\"md\"`caml'\n",
      "24 b'@llhjmd#N@$p#ojhf#b#slvmg#le#ab`lm'\n",
      "26 b'Gkkomjc$IG#w$hmoa$e$tkqj`$kb$fegkj'\n",
      "26 b'Fjjnlkb%HF\"v%iln`%d%ujpka%jc%gdfjk'\n",
      "26 b'Eiimoha&KE!u&jomc&g&vishb&i`&dgeih'\n",
      "26 b\"Dhhlni`'JD t'knlb'f'whric'ha'efdhi\"\n",
      "23 b'xTTPRU\\\\\\x1bvx\\x1cH\\x1bWRP^\\x1bZ\\x1bKTNU_\\x1bT]\\x1bYZXTU'\n",
      "25 b'kGGCAFO\\x08ek\\x0f[\\x08DACM\\x08I\\x08XG]FL\\x08GN\\x08JIKGF'\n",
      "24 b'jFFB@GN\\tdj\\x0eZ\\tE@BL\\tH\\tYF\\\\GM\\tFO\\tKHJFG'\n",
      "26 b'iEEACDM\\ngi\\rY\\nFCAO\\nK\\nZE_DN\\nEL\\nHKIED'\n",
      "23 b'hDD@BEL\\x0bfh\\x0cX\\x0bGB@N\\x0bJ\\x0b[D^EO\\x0bDM\\x0bIJHDE'\n",
      "24 b'oCCGEBK\\x0cao\\x0b_\\x0c@EGI\\x0cM\\x0c\\\\CYBH\\x0cCJ\\x0cNMOCB'\n",
      "24 b'nBBFDCJ\\r`n\\n^\\rADFH\\rL\\r]BXCI\\rBK\\rOLNBC'\n",
      "27 b'cOOKING\\x00mc\\x07S\\x00LIKE\\x00A\\x00POUND\\x00OF\\x00BACON'\n",
      "25 b'bNNJHOF\\x01lb\\x06R\\x01MHJD\\x01@\\x01QNTOE\\x01NG\\x01C@BNO'\n",
      "26 b'aMMIKLE\\x02oa\\x05Q\\x02NKIG\\x02C\\x02RMWLF\\x02MD\\x02@CAML'\n",
      "24 b'`LLHJMD\\x03n`\\x04P\\x03OJHF\\x03B\\x03SLVMG\\x03LE\\x03AB@LM'\n",
      "26 b'gKKOMJC\\x04ig\\x03W\\x04HMOA\\x04E\\x04TKQJ@\\x04KB\\x04FEGKJ'\n",
      "26 b'fJJNLKB\\x05hf\\x02V\\x05ILN@\\x05D\\x05UJPKA\\x05JC\\x05GDFJK'\n",
      "26 b'eIIMOHA\\x06ke\\x01U\\x06JOMC\\x06G\\x06VISHB\\x06I@\\x06DGEIH'\n",
      "26 b'dHHLNI@\\x07jd\\x00T\\x07KNLB\\x07F\\x07WHRIC\\x07HA\\x07EFDHI'\n"
     ]
    }
   ],
   "source": [
    "THRESHOLD = 22\n",
    "for b in range(128):\n",
    "    plaintext = xor(ciphertext, chr(b).encode())\n",
    "    score = score_candidate(plaintext)\n",
    "    if score > 22:\n",
    "        print(score, plaintext)"
   ]
  },
  {
   "cell_type": "markdown",
   "metadata": {},
   "source": [
    "### Achievement Unlocked\n",
    "\n",
    "You now have our permission to make \"ETAOIN SHRDLU\" jokes on Twitter."
   ]
  }
 ],
 "metadata": {
  "kernelspec": {
   "display_name": "Python 3",
   "language": "python",
   "name": "python3"
  },
  "language_info": {
   "codemirror_mode": {
    "name": "ipython",
    "version": 3
   },
   "file_extension": ".py",
   "mimetype": "text/x-python",
   "name": "python",
   "nbconvert_exporter": "python",
   "pygments_lexer": "ipython3",
   "version": "3.10.13"
  }
 },
 "nbformat": 4,
 "nbformat_minor": 2
}
