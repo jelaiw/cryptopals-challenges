{
 "cells": [
  {
   "cell_type": "markdown",
   "metadata": {},
   "source": [
    "## Single-byte XOR cipher\n",
    "\n",
    "The hex encoded string:\n",
    "\n",
    "```\n",
    "1b37373331363f78151b7f2b783431333d78397828372d363c78373e783a393b3736\n",
    "```\n",
    "\n",
    "... has been XOR'd against a single character. Find the key, decrypt the message.\n",
    "\n",
    "You can do this by hand. But don't: write code to do it for you.\n",
    "\n",
    "How? Devise some method for \"scoring\" a piece of English plaintext. Character frequency is a good metric. Evaluate each output and choose the one with the best score. "
   ]
  },
  {
   "cell_type": "code",
   "execution_count": 1,
   "metadata": {},
   "outputs": [
    {
     "data": {
      "text/plain": [
       "b'\\x1b77316?x\\x15\\x1b\\x7f+x413=x9x(7-6<x7>x:9;76'"
      ]
     },
     "execution_count": 1,
     "metadata": {},
     "output_type": "execute_result"
    }
   ],
   "source": [
    "ciphertext = bytes.fromhex('1b37373331363f78151b7f2b783431333d78397828372d363c78373e783a393b3736')\n",
    "ciphertext"
   ]
  },
  {
   "cell_type": "code",
   "execution_count": 2,
   "metadata": {},
   "outputs": [],
   "source": [
    "from pwn import xor"
   ]
  },
  {
   "cell_type": "code",
   "execution_count": 3,
   "metadata": {},
   "outputs": [
    {
     "name": "stdout",
     "output_type": "stream",
     "text": [
      "b'\\x1b77316?x\\x15\\x1b\\x7f+x413=x9x(7-6<x7>x:9;76'\n",
      "b'\\x1a66207>y\\x14\\x1a~*y502<y8y)6,7=y6?y;8:67'\n",
      "b'\\x1955134=z\\x17\\x19})z631?z;z*5/4>z5<z8;954'\n",
      "b'\\x1844025<{\\x16\\x18|({720>{:{+4.5?{4={9:845'\n",
      "b'\\x1f33752;|\\x11\\x1f{/|0579|=|,3)28|3:|>=?32'\n",
      "b'\\x1e22643:}\\x10\\x1ez.}1468}<}-2(39}2;}?<>23'\n",
      "b'\\x1d115709~\\x13\\x1dy-~275;~?~.1+0:~18~<?=10'\n",
      "b'\\x1c004618\\x7f\\x12\\x1cx,\\x7f364:\\x7f>\\x7f/0*1;\\x7f09\\x7f=><01'\n",
      "b'\\x13??;9>7p\\x1d\\x13w#p<9;5p1p ?%>4p?6p213?>'\n",
      "b'\\x12>>:8?6q\\x1c\\x12v\"q=8:4q0q!>$?5q>7q302>?'\n",
      "b'\\x11==9;<5r\\x1f\\x11u!r>;97r3r\"=\\'<6r=4r031=<'\n",
      "b'\\x10<<8:=4s\\x1e\\x10t s?:86s2s#<&=7s<5s120<='\n",
      "b\"\\x17;;?=:3t\\x19\\x17s't8=?1t5t$;!:0t;2t657;:\"\n",
      "b'\\x16::><;2u\\x18\\x16r&u9<>0u4u%: ;1u:3u746:;'\n",
      "b'\\x1599=?81v\\x1b\\x15q%v:?=3v7v&9#82v90v47598'\n",
      "b'\\x1488<>90w\\x1a\\x14p$w;><2w6w\\'8\"93w81w56489'\n",
      "b\"\\x0b''#!&/h\\x05\\x0bo;h$!#-h)h8'=&,h'.h*)+'&\"\n",
      "b'\\n&&\" \\'.i\\x04\\nn:i% \",i(i9&<\\'-i&/i+(*&\\''\n",
      "b'\\t%%!#$-j\\x07\\tm9j&#!/j+j:%?$.j%,j(+)%$'\n",
      "b'\\x08$$ \"%,k\\x06\\x08l8k\\'\" .k*k;$>%/k$-k)*($%'\n",
      "b'\\x0f##\\'%\"+l\\x01\\x0fk?l %\\')l-l<#9\"(l#*l.-/#\"'\n",
      "b'\\x0e\"\"&$#*m\\x00\\x0ej>m!$&(m,m=\"8#)m\"+m/,.\"#'\n",
      "b'\\r!!%\\' )n\\x03\\ri=n\"\\'%+n/n>!; *n!(n,/-! '\n",
      "b'\\x0c  $&!(o\\x02\\x0ch<o#&$*o.o? :!+o )o-., !'\n",
      "b'\\x03//+).\\'`\\r\\x03g3`,)+%`!`0/5.$`/&`\"!#/.'\n",
      "b'\\x02..*(/&a\\x0c\\x02f2a-(*$a a1.4/%a.\\'a# \"./'\n",
      "b\"\\x01--)+,%b\\x0f\\x01e1b.+)'b#b2-7,&b-$b #!-,\"\n",
      "b'\\x00,,(*-$c\\x0e\\x00d0c/*(&c\"c3,6-\\'c,%c!\" ,-'\n",
      "b'\\x07++/-*#d\\t\\x07c7d(-/!d%d4+1* d+\"d&%\\'+*'\n",
      "b'\\x06**.,+\"e\\x08\\x06b6e),. e$e5*0+!e*#e\\'$&*+'\n",
      "b'\\x05))-/(!f\\x0b\\x05a5f*/-#f\\'f6)3(\"f) f$\\'%)('\n",
      "b'\\x04((,.) g\\n\\x04`4g+.,\"g&g7(2)#g(!g%&$()'\n",
      "b';\\x17\\x17\\x13\\x11\\x16\\x1fX5;_\\x0bX\\x14\\x11\\x13\\x1dX\\x19X\\x08\\x17\\r\\x16\\x1cX\\x17\\x1eX\\x1a\\x19\\x1b\\x17\\x16'\n",
      "b':\\x16\\x16\\x12\\x10\\x17\\x1eY4:^\\nY\\x15\\x10\\x12\\x1cY\\x18Y\\t\\x16\\x0c\\x17\\x1dY\\x16\\x1fY\\x1b\\x18\\x1a\\x16\\x17'\n",
      "b'9\\x15\\x15\\x11\\x13\\x14\\x1dZ79]\\tZ\\x16\\x13\\x11\\x1fZ\\x1bZ\\n\\x15\\x0f\\x14\\x1eZ\\x15\\x1cZ\\x18\\x1b\\x19\\x15\\x14'\n",
      "b'8\\x14\\x14\\x10\\x12\\x15\\x1c[68\\\\\\x08[\\x17\\x12\\x10\\x1e[\\x1a[\\x0b\\x14\\x0e\\x15\\x1f[\\x14\\x1d[\\x19\\x1a\\x18\\x14\\x15'\n",
      "b'?\\x13\\x13\\x17\\x15\\x12\\x1b\\\\1?[\\x0f\\\\\\x10\\x15\\x17\\x19\\\\\\x1d\\\\\\x0c\\x13\\t\\x12\\x18\\\\\\x13\\x1a\\\\\\x1e\\x1d\\x1f\\x13\\x12'\n",
      "b'>\\x12\\x12\\x16\\x14\\x13\\x1a]0>Z\\x0e]\\x11\\x14\\x16\\x18]\\x1c]\\r\\x12\\x08\\x13\\x19]\\x12\\x1b]\\x1f\\x1c\\x1e\\x12\\x13'\n",
      "b'=\\x11\\x11\\x15\\x17\\x10\\x19^3=Y\\r^\\x12\\x17\\x15\\x1b^\\x1f^\\x0e\\x11\\x0b\\x10\\x1a^\\x11\\x18^\\x1c\\x1f\\x1d\\x11\\x10'\n",
      "b'<\\x10\\x10\\x14\\x16\\x11\\x18_2<X\\x0c_\\x13\\x16\\x14\\x1a_\\x1e_\\x0f\\x10\\n\\x11\\x1b_\\x10\\x19_\\x1d\\x1e\\x1c\\x10\\x11'\n",
      "b'3\\x1f\\x1f\\x1b\\x19\\x1e\\x17P=3W\\x03P\\x1c\\x19\\x1b\\x15P\\x11P\\x00\\x1f\\x05\\x1e\\x14P\\x1f\\x16P\\x12\\x11\\x13\\x1f\\x1e'\n",
      "b'2\\x1e\\x1e\\x1a\\x18\\x1f\\x16Q<2V\\x02Q\\x1d\\x18\\x1a\\x14Q\\x10Q\\x01\\x1e\\x04\\x1f\\x15Q\\x1e\\x17Q\\x13\\x10\\x12\\x1e\\x1f'\n",
      "b'1\\x1d\\x1d\\x19\\x1b\\x1c\\x15R?1U\\x01R\\x1e\\x1b\\x19\\x17R\\x13R\\x02\\x1d\\x07\\x1c\\x16R\\x1d\\x14R\\x10\\x13\\x11\\x1d\\x1c'\n",
      "b'0\\x1c\\x1c\\x18\\x1a\\x1d\\x14S>0T\\x00S\\x1f\\x1a\\x18\\x16S\\x12S\\x03\\x1c\\x06\\x1d\\x17S\\x1c\\x15S\\x11\\x12\\x10\\x1c\\x1d'\n",
      "b'7\\x1b\\x1b\\x1f\\x1d\\x1a\\x13T97S\\x07T\\x18\\x1d\\x1f\\x11T\\x15T\\x04\\x1b\\x01\\x1a\\x10T\\x1b\\x12T\\x16\\x15\\x17\\x1b\\x1a'\n",
      "b'6\\x1a\\x1a\\x1e\\x1c\\x1b\\x12U86R\\x06U\\x19\\x1c\\x1e\\x10U\\x14U\\x05\\x1a\\x00\\x1b\\x11U\\x1a\\x13U\\x17\\x14\\x16\\x1a\\x1b'\n",
      "b'5\\x19\\x19\\x1d\\x1f\\x18\\x11V;5Q\\x05V\\x1a\\x1f\\x1d\\x13V\\x17V\\x06\\x19\\x03\\x18\\x12V\\x19\\x10V\\x14\\x17\\x15\\x19\\x18'\n",
      "b'4\\x18\\x18\\x1c\\x1e\\x19\\x10W:4P\\x04W\\x1b\\x1e\\x1c\\x12W\\x16W\\x07\\x18\\x02\\x19\\x13W\\x18\\x11W\\x15\\x16\\x14\\x18\\x19'\n",
      "b'+\\x07\\x07\\x03\\x01\\x06\\x0fH%+O\\x1bH\\x04\\x01\\x03\\rH\\tH\\x18\\x07\\x1d\\x06\\x0cH\\x07\\x0eH\\n\\t\\x0b\\x07\\x06'\n",
      "b'*\\x06\\x06\\x02\\x00\\x07\\x0eI$*N\\x1aI\\x05\\x00\\x02\\x0cI\\x08I\\x19\\x06\\x1c\\x07\\rI\\x06\\x0fI\\x0b\\x08\\n\\x06\\x07'\n",
      "b\")\\x05\\x05\\x01\\x03\\x04\\rJ')M\\x19J\\x06\\x03\\x01\\x0fJ\\x0bJ\\x1a\\x05\\x1f\\x04\\x0eJ\\x05\\x0cJ\\x08\\x0b\\t\\x05\\x04\"\n",
      "b'(\\x04\\x04\\x00\\x02\\x05\\x0cK&(L\\x18K\\x07\\x02\\x00\\x0eK\\nK\\x1b\\x04\\x1e\\x05\\x0fK\\x04\\rK\\t\\n\\x08\\x04\\x05'\n",
      "b'/\\x03\\x03\\x07\\x05\\x02\\x0bL!/K\\x1fL\\x00\\x05\\x07\\tL\\rL\\x1c\\x03\\x19\\x02\\x08L\\x03\\nL\\x0e\\r\\x0f\\x03\\x02'\n",
      "b'.\\x02\\x02\\x06\\x04\\x03\\nM .J\\x1eM\\x01\\x04\\x06\\x08M\\x0cM\\x1d\\x02\\x18\\x03\\tM\\x02\\x0bM\\x0f\\x0c\\x0e\\x02\\x03'\n",
      "b'-\\x01\\x01\\x05\\x07\\x00\\tN#-I\\x1dN\\x02\\x07\\x05\\x0bN\\x0fN\\x1e\\x01\\x1b\\x00\\nN\\x01\\x08N\\x0c\\x0f\\r\\x01\\x00'\n",
      "b',\\x00\\x00\\x04\\x06\\x01\\x08O\",H\\x1cO\\x03\\x06\\x04\\nO\\x0eO\\x1f\\x00\\x1a\\x01\\x0bO\\x00\\tO\\r\\x0e\\x0c\\x00\\x01'\n",
      "b'#\\x0f\\x0f\\x0b\\t\\x0e\\x07@-#G\\x13@\\x0c\\t\\x0b\\x05@\\x01@\\x10\\x0f\\x15\\x0e\\x04@\\x0f\\x06@\\x02\\x01\\x03\\x0f\\x0e'\n",
      "b'\"\\x0e\\x0e\\n\\x08\\x0f\\x06A,\"F\\x12A\\r\\x08\\n\\x04A\\x00A\\x11\\x0e\\x14\\x0f\\x05A\\x0e\\x07A\\x03\\x00\\x02\\x0e\\x0f'\n",
      "b'!\\r\\r\\t\\x0b\\x0c\\x05B/!E\\x11B\\x0e\\x0b\\t\\x07B\\x03B\\x12\\r\\x17\\x0c\\x06B\\r\\x04B\\x00\\x03\\x01\\r\\x0c'\n",
      "b' \\x0c\\x0c\\x08\\n\\r\\x04C. D\\x10C\\x0f\\n\\x08\\x06C\\x02C\\x13\\x0c\\x16\\r\\x07C\\x0c\\x05C\\x01\\x02\\x00\\x0c\\r'\n",
      "b\"'\\x0b\\x0b\\x0f\\r\\n\\x03D)'C\\x17D\\x08\\r\\x0f\\x01D\\x05D\\x14\\x0b\\x11\\n\\x00D\\x0b\\x02D\\x06\\x05\\x07\\x0b\\n\"\n",
      "b'&\\n\\n\\x0e\\x0c\\x0b\\x02E(&B\\x16E\\t\\x0c\\x0e\\x00E\\x04E\\x15\\n\\x10\\x0b\\x01E\\n\\x03E\\x07\\x04\\x06\\n\\x0b'\n",
      "b'%\\t\\t\\r\\x0f\\x08\\x01F+%A\\x15F\\n\\x0f\\r\\x03F\\x07F\\x16\\t\\x13\\x08\\x02F\\t\\x00F\\x04\\x07\\x05\\t\\x08'\n",
      "b'$\\x08\\x08\\x0c\\x0e\\t\\x00G*$@\\x14G\\x0b\\x0e\\x0c\\x02G\\x06G\\x17\\x08\\x12\\t\\x03G\\x08\\x01G\\x05\\x06\\x04\\x08\\t'\n",
      "b'[wwsqv\\x7f8U[?k8tqs}8y8hwmv|8w~8zy{wv'\n",
      "b'Zvvrpw~9TZ>j9upr|9x9ivlw}9v\\x7f9{xzvw'\n",
      "b'Yuuqst}:WY=i:vsq\\x7f:{:juot~:u|:x{yut'\n",
      "b'Xttpru|;VX<h;wrp~;z;ktnu\\x7f;t};yzxtu'\n",
      "b'_sswur{<Q_;o<puwy<}<lsirx<sz<~}\\x7fsr'\n",
      "b'^rrvtsz=P^:n=qtvx=|=mrhsy=r{=\\x7f|~rs'\n",
      "b']qquwpy>S]9m>rwu{>\\x7f>nqkpz>qx>|\\x7f}qp'\n",
      "b'\\\\pptvqx?R\\\\8l?svtz?~?opjq{?py?}~|pq'\n",
      "b'S\\x7f\\x7f{y~w0]S7c0|y{u0q0`\\x7fe~t0\\x7fv0rqs\\x7f~'\n",
      "b'R~~zx\\x7fv1\\\\R6b1}xzt1p1a~d\\x7fu1~w1spr~\\x7f'\n",
      "b'Q}}y{|u2_Q5a2~{yw2s2b}g|v2}t2psq}|'\n",
      "b'P||xz}t3^P4`3\\x7fzxv3r3c|f}w3|u3qrp|}'\n",
      "b'W{{\\x7f}zs4YW3g4x}\\x7fq4u4d{azp4{r4vuw{z'\n",
      "b'Vzz~|{r5XV2f5y|~p5t5ez`{q5zs5wtvz{'\n",
      "b'Uyy}\\x7fxq6[U1e6z\\x7f}s6w6fycxr6yp6twuyx'\n",
      "b'Txx|~yp7ZT0d7{~|r7v7gxbys7xq7uvtxy'\n",
      "b'Kggcafo(EK/{(dacm(i(xg}fl(gn(jikgf'\n",
      "b'Jffb`gn)DJ.z)e`bl)h)yf|gm)fo)khjfg'\n",
      "b'Ieeacdm*GI-y*fcao*k*ze\\x7fdn*el*hkied'\n",
      "b'Hdd`bel+FH,x+gb`n+j+{d~eo+dm+ijhde'\n",
      "b'Occgebk,AO+\\x7f,`egi,m,|cybh,cj,nmocb'\n",
      "b'Nbbfdcj-@N*~-adfh-l-}bxci-bk-olnbc'\n",
      "b'Maaeg`i.CM)}.bgek.o.~a{`j.ah.loma`'\n",
      "b'L``dfah/BL(|/cfdj/n/\\x7f`zak/`i/mnl`a'\n",
      "b\"Cooking MC's like a pound of bacon\"\n",
      "b'Bnnjhof!LB&r!mhjd!`!qntoe!ng!c`bno'\n",
      "b'Ammikle\"OA%q\"nkig\"c\"rmwlf\"md\"`caml'\n",
      "b'@llhjmd#N@$p#ojhf#b#slvmg#le#ab`lm'\n",
      "b'Gkkomjc$IG#w$hmoa$e$tkqj`$kb$fegkj'\n",
      "b'Fjjnlkb%HF\"v%iln`%d%ujpka%jc%gdfjk'\n",
      "b'Eiimoha&KE!u&jomc&g&vishb&i`&dgeih'\n",
      "b\"Dhhlni`'JD t'knlb'f'whric'ha'efdhi\"\n",
      "b'{WWSQV_\\x18u{\\x1fK\\x18TQS]\\x18Y\\x18HWMV\\\\\\x18W^\\x18ZY[WV'\n",
      "b'zVVRPW^\\x19tz\\x1eJ\\x19UPR\\\\\\x19X\\x19IVLW]\\x19V_\\x19[XZVW'\n",
      "b'yUUQST]\\x1awy\\x1dI\\x1aVSQ_\\x1a[\\x1aJUOT^\\x1aU\\\\\\x1aX[YUT'\n",
      "b'xTTPRU\\\\\\x1bvx\\x1cH\\x1bWRP^\\x1bZ\\x1bKTNU_\\x1bT]\\x1bYZXTU'\n",
      "b'\\x7fSSWUR[\\x1cq\\x7f\\x1bO\\x1cPUWY\\x1c]\\x1cLSIRX\\x1cSZ\\x1c^]_SR'\n",
      "b'~RRVTSZ\\x1dp~\\x1aN\\x1dQTVX\\x1d\\\\\\x1dMRHSY\\x1dR[\\x1d_\\\\^RS'\n",
      "b'}QQUWPY\\x1es}\\x19M\\x1eRWU[\\x1e_\\x1eNQKPZ\\x1eQX\\x1e\\\\_]QP'\n",
      "b'|PPTVQX\\x1fr|\\x18L\\x1fSVTZ\\x1f^\\x1fOPJQ[\\x1fPY\\x1f]^\\\\PQ'\n",
      "b's__[Y^W\\x10}s\\x17C\\x10\\\\Y[U\\x10Q\\x10@_E^T\\x10_V\\x10RQS_^'\n",
      "b'r^^ZX_V\\x11|r\\x16B\\x11]XZT\\x11P\\x11A^D_U\\x11^W\\x11SPR^_'\n",
      "b'q]]Y[\\\\U\\x12\\x7fq\\x15A\\x12^[YW\\x12S\\x12B]G\\\\V\\x12]T\\x12PSQ]\\\\'\n",
      "b'p\\\\\\\\XZ]T\\x13~p\\x14@\\x13_ZXV\\x13R\\x13C\\\\F]W\\x13\\\\U\\x13QRP\\\\]'\n",
      "b'w[[_]ZS\\x14yw\\x13G\\x14X]_Q\\x14U\\x14D[AZP\\x14[R\\x14VUW[Z'\n",
      "b'vZZ^\\\\[R\\x15xv\\x12F\\x15Y\\\\^P\\x15T\\x15EZ@[Q\\x15ZS\\x15WTVZ['\n",
      "b'uYY]_XQ\\x16{u\\x11E\\x16Z_]S\\x16W\\x16FYCXR\\x16YP\\x16TWUYX'\n",
      "b'tXX\\\\^YP\\x17zt\\x10D\\x17[^\\\\R\\x17V\\x17GXBYS\\x17XQ\\x17UVTXY'\n",
      "b'kGGCAFO\\x08ek\\x0f[\\x08DACM\\x08I\\x08XG]FL\\x08GN\\x08JIKGF'\n",
      "b'jFFB@GN\\tdj\\x0eZ\\tE@BL\\tH\\tYF\\\\GM\\tFO\\tKHJFG'\n",
      "b'iEEACDM\\ngi\\rY\\nFCAO\\nK\\nZE_DN\\nEL\\nHKIED'\n",
      "b'hDD@BEL\\x0bfh\\x0cX\\x0bGB@N\\x0bJ\\x0b[D^EO\\x0bDM\\x0bIJHDE'\n",
      "b'oCCGEBK\\x0cao\\x0b_\\x0c@EGI\\x0cM\\x0c\\\\CYBH\\x0cCJ\\x0cNMOCB'\n",
      "b'nBBFDCJ\\r`n\\n^\\rADFH\\rL\\r]BXCI\\rBK\\rOLNBC'\n",
      "b'mAAEG@I\\x0ecm\\t]\\x0eBGEK\\x0eO\\x0e^A[@J\\x0eAH\\x0eLOMA@'\n",
      "b'l@@DFAH\\x0fbl\\x08\\\\\\x0fCFDJ\\x0fN\\x0f_@ZAK\\x0f@I\\x0fMNL@A'\n",
      "b'cOOKING\\x00mc\\x07S\\x00LIKE\\x00A\\x00POUND\\x00OF\\x00BACON'\n",
      "b'bNNJHOF\\x01lb\\x06R\\x01MHJD\\x01@\\x01QNTOE\\x01NG\\x01C@BNO'\n",
      "b'aMMIKLE\\x02oa\\x05Q\\x02NKIG\\x02C\\x02RMWLF\\x02MD\\x02@CAML'\n",
      "b'`LLHJMD\\x03n`\\x04P\\x03OJHF\\x03B\\x03SLVMG\\x03LE\\x03AB@LM'\n",
      "b'gKKOMJC\\x04ig\\x03W\\x04HMOA\\x04E\\x04TKQJ@\\x04KB\\x04FEGKJ'\n",
      "b'fJJNLKB\\x05hf\\x02V\\x05ILN@\\x05D\\x05UJPKA\\x05JC\\x05GDFJK'\n",
      "b'eIIMOHA\\x06ke\\x01U\\x06JOMC\\x06G\\x06VISHB\\x06I@\\x06DGEIH'\n",
      "b'dHHLNI@\\x07jd\\x00T\\x07KNLB\\x07F\\x07WHRIC\\x07HA\\x07EFDHI'\n"
     ]
    }
   ],
   "source": [
    "for b in range(128):\n",
    "    print(xor(ciphertext, chr(b).encode()))"
   ]
  },
  {
   "cell_type": "markdown",
   "metadata": {},
   "source": [
    "### Achievement Unlocked\n",
    "\n",
    "You now have our permission to make \"ETAOIN SHRDLU\" jokes on Twitter."
   ]
  }
 ],
 "metadata": {
  "kernelspec": {
   "display_name": "Python 3",
   "language": "python",
   "name": "python3"
  },
  "language_info": {
   "codemirror_mode": {
    "name": "ipython",
    "version": 3
   },
   "file_extension": ".py",
   "mimetype": "text/x-python",
   "name": "python",
   "nbconvert_exporter": "python",
   "pygments_lexer": "ipython3",
   "version": "3.10.13"
  }
 },
 "nbformat": 4,
 "nbformat_minor": 2
}
