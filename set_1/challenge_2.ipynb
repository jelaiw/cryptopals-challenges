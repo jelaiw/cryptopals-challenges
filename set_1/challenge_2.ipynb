{
 "cells": [
  {
   "cell_type": "markdown",
   "metadata": {},
   "source": [
    "## Fixed XOR\n",
    "\n",
    "Write a function that takes two equal-length buffers and produces their XOR combination.\n",
    "\n",
    "If your function works properly, then when you feed it the string:\n",
    "\n",
    "```\n",
    "1c0111001f010100061a024b53535009181c\n",
    "```\n",
    "\n",
    "... after hex decoding, and when XOR'd against:\n",
    "\n",
    "```\n",
    "686974207468652062756c6c277320657965\n",
    "```\n",
    "\n",
    "... should produce:\n",
    "\n",
    "```\n",
    "746865206b696420646f6e277420706c6179\n",
    "```\n"
   ]
  },
  {
   "cell_type": "code",
   "execution_count": null,
   "metadata": {},
   "outputs": [],
   "source": []
  }
 ],
 "metadata": {
  "language_info": {
   "name": "python"
  }
 },
 "nbformat": 4,
 "nbformat_minor": 2
}
